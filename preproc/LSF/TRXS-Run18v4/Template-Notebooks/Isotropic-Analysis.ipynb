{
 "cells": [
  {
   "cell_type": "markdown",
   "metadata": {},
   "source": [
    "# Experiment and path specification"
   ]
  },
  {
   "cell_type": "code",
   "execution_count": null,
   "metadata": {},
   "outputs": [],
   "source": [
    "# Specify the experiment for analysis\n",
    "experiment='cxix40218'\n",
    "runNumber = 50\n",
    "\n",
    "# Set the installation and output path\n",
    "import os\n",
    "os.environ['INSTALLPATH']= '/cds/home/i/igabalsk/TRXS-Run18'\n",
    "os.environ['OUTPUTPATH']= '/cds/data/psdm/%s/%s/scratch' % (experiment[0:3],experiment)"
   ]
  },
  {
   "cell_type": "markdown",
   "metadata": {},
   "source": [
    "# Import Libraries"
   ]
  },
  {
   "cell_type": "code",
   "execution_count": null,
   "metadata": {},
   "outputs": [],
   "source": [
    "# Magic iPython command to enable plotting\n",
    "%matplotlib inline\n",
    "\n",
    "# Load in the pythonBatchMagic library\n",
    "import sys\n",
    "sys.path.insert(0, os.environ['INSTALLPATH']+'/Libraries/pythonBatchMagic')\n",
    "from pythonBatchMagic import *\n",
    "# Determine current user\n",
    "currentUser, error = unixCMD(\"echo $USER\")\n",
    "print(currentUser)\n",
    "os.environ['RESULTSPATH']= ('/cds/data/psdm/%s/%s/results/%s' % (experiment[0:3],experiment,currentUser)).strip()\n",
    "if not os.path.exists(os.environ['RESULTSPATH']):\n",
    "    os.mkdir(os.environ['RESULTSPATH'])"
   ]
  },
  {
   "cell_type": "markdown",
   "metadata": {},
   "source": [
    "# Leveraging the batch queue to quickly grab point data"
   ]
  },
  {
   "cell_type": "markdown",
   "metadata": {},
   "source": [
    "## Loading libraries"
   ]
  },
  {
   "cell_type": "code",
   "execution_count": null,
   "metadata": {},
   "outputs": [],
   "source": [
    "sys.path.insert(0, os.environ['INSTALLPATH']+'/Libraries/LCLS')\n",
    "from LCLSdefault import *\n",
    "\n",
    "sys.path.insert(0, os.environ['INSTALLPATH']+'/Libraries/mattsTools')\n",
    "from picklez import *\n",
    "\n",
    "# Load in the get data library\n",
    "from dataAnalysis import *\n",
    "\n",
    "# Load in the batch library for lcls\n",
    "from lclsBatch import *"
   ]
  },
  {
   "cell_type": "markdown",
   "metadata": {},
   "source": [
    "# Load timebinned CSPAD"
   ]
  },
  {
   "cell_type": "code",
   "execution_count": null,
   "metadata": {},
   "outputs": [],
   "source": [
    "timebins = np.load(os.environ['RESULTSPATH']+'/timebins-run-%d.npy' % runNumber )\n",
    "CSPAD = np.load(os.environ['RESULTSPATH']+'/CSPAD-run-%d.npy' % runNumber)\n",
    "variance = np.load(os.environ['RESULTSPATH']+'/variance-run-%d.npy' % runNumber)\n",
    "counts = np.load(os.environ['RESULTSPATH']+'/counts-run-%d.npy' % runNumber)\n"
   ]
  },
  {
   "cell_type": "markdown",
   "metadata": {},
   "source": [
    "# Plot CSPAD"
   ]
  },
  {
   "cell_type": "code",
   "execution_count": null,
   "metadata": {},
   "outputs": [],
   "source": [
    "from IPython.display import clear_output\n",
    "from plotStyles import *\n",
    "\n",
    "def plotCSPAD( cspad , x , y, cspadMask=None, zLims = None, divergent=False, NTILE=32 ):\n",
    "    figOpts = {'xLims':[-2e5,2e5],'yLims':[-2e5,2e5],'divergent':divergent, 'xIn':3, 'yIn':3*11.5/14.5}\n",
    "    \n",
    "    if zLims is not None:\n",
    "        figOpts['zLims'] = zLims\n",
    "    \n",
    "    for iTile in range(NTILE):\n",
    "    \n",
    "        if cspadMask is not None:\n",
    "            cspadTile = cspad[iTile,:,:]\n",
    "            tileMask = ~cspadMask[iTile,:,:]\n",
    "            cspadTile[tileMask] = 0\n",
    "        \n",
    "        if iTile == 0:\n",
    "            newFigure = True\n",
    "        else:\n",
    "            newFigure = False\n",
    "            \n",
    "        clear_output()\n",
    "        colorPlot( x[iTile,:,:], y[iTile,:,:], cspadTile , newFigure=newFigure, **figOpts);\n",
    "\n",
    "\n",
    "x,y = CSPADgeometry(detType='Jungfrau', run=runNumber, experiment=experiment)\n",
    "# cspadMask = createMask(detType='Jungfrau').astype(bool)\n",
    "cspadMask = np.ones_like(x).astype(bool)\n",
    "print(cspadMask.shape)\n",
    "\n",
    "\n",
    "CSPADbinned = CSPAD\n",
    "        \n",
    "# plotCSPAD( cspadMask, x , y , cspadMask=cspadMask, divergent=True )\n",
    "plotCSPAD( CSPADbinned[:,:,:,5]-CSPADbinned[:,:,:,0], x , y , cspadMask=cspadMask, divergent=True, NTILE=8 )\n",
    "\n"
   ]
  },
  {
   "cell_type": "markdown",
   "metadata": {},
   "source": [
    "# Isotropic analysis"
   ]
  },
  {
   "cell_type": "code",
   "execution_count": null,
   "metadata": {},
   "outputs": [],
   "source": [
    "# Read in geometry and geometry measure dduring beamtime\n",
    "# XC,YC = 88097, 93696\n",
    "XC,YC = 0, 0\n",
    "X=np.array(x-XC)\n",
    "Y=np.array(y-YC)\n",
    "R=np.sqrt(np.power(X,2)+np.power(Y,2))\n",
    "L=69e3\n",
    "\n",
    "# Use two-theta to calculate Q\n",
    "TwoTheta=np.arctan(R/L)\n",
    "Q = 4*np.pi*np.sin(TwoTheta/2)/1.3874;\n",
    "print np.max(Q)\n",
    "PHID = np.arctan2(X,Y)#Y,X)\n",
    "THETAD = TwoTheta;\n",
    "\n",
    "# Form the Thomson correction factor\n",
    "# THOMSON_CORRECTION = PHID; \n",
    "THOMSON_CORRECTION = ((np.sin(PHID)**2+np.cos(THETAD)**2.*np.cos(PHID)**2)); "
   ]
  },
  {
   "cell_type": "markdown",
   "metadata": {},
   "source": [
    "# Radial integration"
   ]
  },
  {
   "cell_type": "code",
   "execution_count": null,
   "metadata": {},
   "outputs": [],
   "source": [
    "def radially_integrate(rgrid,Rmap,image,Mask=None):\n",
    "    dr = rgrid[2]-rgrid[1]\n",
    "    rsum=np.zeros_like(rgrid)\n",
    "    \n",
    "    for idx, r in enumerate(rgrid):\n",
    "        rlower = r - dr/2.\n",
    "        rupper = r + dr/2.\n",
    "\n",
    "        if Mask is None:\n",
    "            little_slice_r=((Rmap > rlower)&(Rmap < rupper))    \n",
    "        else:\n",
    "            little_slice_r=~((~((Rmap > rlower)&(Rmap < rupper))) | (Mask))\n",
    "\n",
    "        normalizer=(np.nansum(np.abs(image[little_slice_r])>0))    \n",
    "        if normalizer==0:\n",
    "            rsum[idx]=np.nan\n",
    "        else:\n",
    "            rsum[idx] = np.nansum(image[little_slice_r]) / normalizer\n",
    "    return rsum, normalizer\n",
    "\n",
    "k0 = 4.5287 # 2pi/lambda\n",
    "\n",
    "NQ = 200 # Must be divisible by 2\n",
    "QMIN = 0.\n",
    "QMAX = k0\n",
    "qgrid = np.linspace(QMIN,QMAX,NQ)\n",
    "\n",
    "NT = timebins.size\n",
    "rad_int = np.zeros((NQ,NT))\n",
    "rad_std = np.zeros((NQ,NT))\n",
    "\n",
    "for t_idx in xrange(NT):\n",
    "    print (t_idx, NT)\n",
    "    rad_int[:,t_idx],nsum=radially_integrate(qgrid,Rmap=Q, image=CSPAD[:,:,:,t_idx]/THOMSON_CORRECTION, Mask=(cspadMask<1))\n",
    "    var,nsum=radially_integrate(qgrid,Rmap=Q, image=variance[:,:,:,t_idx]/(THOMSON_CORRECTION**2), Mask=(cspadMask<1))\n",
    "    \n",
    "    rad_std[:,t_idx]=np.sqrt(var/nsum)"
   ]
  },
  {
   "cell_type": "code",
   "execution_count": null,
   "metadata": {
    "scrolled": false
   },
   "outputs": [],
   "source": [
    "iT0=9\n",
    "iQ0=20\n",
    "\n",
    "\n",
    "TT,QQ = np.meshgrid(timebins[iT0:], qgrid[iQ0:])\n",
    "\n",
    "\n",
    "plotme = (rad_int[iQ0:,iT0:])\n",
    "plotme = plotme - plotme[:,0][:,np.newaxis]\n",
    "plotme = plotme\n",
    "scaleFac = plotme.flatten().max()\n",
    "plotme = plotme / scaleFac\n",
    "\n",
    "stdt0 = rad_std[iQ0:,iT0]\n",
    "\n",
    "\n",
    "figOpts = {'xLims':[1,4.],'yLims':[0,2.5],'zLims':[-1,1], 'yLabel':r'$\\tau$', 'yUnits':'ps', 'xLabel':'Q', 'xUnits':r'$\\AA^{-1}$',\n",
    "           'nxTicks':4, 'nyTicks':6, 'zLabel':r'$S_0(Q,\\tau)-S_{u}(Q)$', 'divergent':True}\n",
    "\n",
    "colorPlot(  qgrid[iQ0:],timebins[iT0:]-2.35,  (plotme).T , newFigure=True, **figOpts)\n",
    "\n",
    "plt.ylim([-.05,2.5])\n",
    "plt.xlim([1,4.5])\n",
    "\n",
    "\n",
    "figOpts = {'xLims':[1,4.],'yLims':[0,2.5], 'yLabel':r'$\\tau$', 'yUnits':'ps', 'xLabel':'Q', 'xUnits':r'$\\AA^{-1}$',\n",
    "           'nxTicks':4, 'nyTicks':6, 'zLabel':r'$STD$', 'divergent':False}\n",
    "colorPlot( qgrid[iQ0:], timebins[iT0:]-2.35,   (( rad_std[iQ0:,iT0:]+stdt0[:,np.newaxis] )/scaleFac).T, newFigure=True, **figOpts)\n",
    "\n",
    "\n",
    "\n"
   ]
  },
  {
   "cell_type": "code",
   "execution_count": null,
   "metadata": {},
   "outputs": [],
   "source": []
  }
 ],
 "metadata": {
  "kernelspec": {
   "display_name": "LCLS-I py2",
   "language": "python",
   "name": "ana1-current"
  },
  "language_info": {
   "codemirror_mode": {
    "name": "ipython",
    "version": 2
   },
   "file_extension": ".py",
   "mimetype": "text/x-python",
   "name": "python",
   "nbconvert_exporter": "python",
   "pygments_lexer": "ipython2",
   "version": "2.7.15"
  }
 },
 "nbformat": 4,
 "nbformat_minor": 2
}
