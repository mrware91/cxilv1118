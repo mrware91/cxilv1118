{
 "cells": [
  {
   "cell_type": "markdown",
   "metadata": {},
   "source": [
    "# Experiment and path specification"
   ]
  },
  {
   "cell_type": "code",
   "execution_count": null,
   "metadata": {},
   "outputs": [],
   "source": [
    "# Specify the experiment for analysis\n",
    "experiment='cxix40218'\n",
    "runNumber = 52\n",
    "\n",
    "# Set the installation and output path\n",
    "import os\n",
    "os.environ['INSTALLPATH']= '/cds/home/i/igabalsk/TRXS-Run18'\n",
    "os.environ['OUTPUTPATH']= '/cds/data/psdm/%s/%s/scratch' % (experiment[0:3],experiment)"
   ]
  },
  {
   "cell_type": "markdown",
   "metadata": {},
   "source": [
    "# Import Libraries"
   ]
  },
  {
   "cell_type": "code",
   "execution_count": null,
   "metadata": {},
   "outputs": [],
   "source": [
    "# Magic iPython command to enable plotting\n",
    "%matplotlib inline\n",
    "\n",
    "# Load in the pythonBatchMagic library\n",
    "import sys\n",
    "sys.path.insert(0, os.environ['INSTALLPATH']+'/Libraries/pythonBatchMagic')\n",
    "from pythonBatchMagic import *\n",
    "# Determine current user\n",
    "currentUser, error = unixCMD(\"echo $USER\")\n",
    "print(currentUser)\n",
    "os.environ['RESULTSPATH']= ('/cds/data/psdm/%s/%s/results/%s' % (experiment[0:3],experiment,currentUser)).strip()\n",
    "if not os.path.exists(os.environ['RESULTSPATH']):\n",
    "    os.mkdir(os.environ['RESULTSPATH'])"
   ]
  },
  {
   "cell_type": "markdown",
   "metadata": {},
   "source": [
    "# Leveraging the batch queue to quickly grab point data"
   ]
  },
  {
   "cell_type": "markdown",
   "metadata": {},
   "source": [
    "## Loading libraries"
   ]
  },
  {
   "cell_type": "code",
   "execution_count": null,
   "metadata": {},
   "outputs": [],
   "source": [
    "sys.path.insert(0, os.environ['INSTALLPATH']+'/Libraries/LCLS')\n",
    "from LCLSdefault import *\n",
    "\n",
    "sys.path.insert(0, os.environ['INSTALLPATH']+'/Libraries/mattsTools')\n",
    "from picklez import *\n",
    "\n",
    "# Load in the get data library\n",
    "from dataAnalysis import *\n",
    "\n",
    "# Load in the batch library for lcls\n",
    "from lclsBatch import *"
   ]
  },
  {
   "cell_type": "markdown",
   "metadata": {},
   "source": [
    "# Load timebinned CSPAD"
   ]
  },
  {
   "cell_type": "markdown",
   "metadata": {},
   "source": [
    "### This can either take a timebinned single run (Section 1) or a set of separate runs at different time delays and stitch them into a single ROI analysis (Section 2)"
   ]
  },
  {
   "cell_type": "code",
   "execution_count": null,
   "metadata": {},
   "outputs": [],
   "source": [
    "# SECTION 1\n",
    "timebins = np.load(os.environ['RESULTSPATH']+'/timebins-run-%d.npy' % runNumber )\n",
    "CSPAD = np.load(os.environ['RESULTSPATH']+'/CSPAD-run-%d.npy' % runNumber)\n",
    "variance = np.load(os.environ['RESULTSPATH']+'/variance-run-%d.npy' % runNumber)\n",
    "counts = np.load(os.environ['RESULTSPATH']+'/counts-run-%d.npy' % runNumber)\n",
    "# END SECTION 1\n",
    "\n",
    "# SECTION 2\n",
    "# timebins_dict = {}\n",
    "# CSPAD_dict = {}\n",
    "# run_dict = {29:0, 31:1, 33:2, 32:3, 30:4, 28:5}\n",
    "# for run_number in [28, 29, 30, 31, 32, 33]:\n",
    "#     timebins_dict[run_number] = np.load(os.environ['RESULTSPATH']+'/timebins-run-%d.npy' % run_number )\n",
    "#     CSPAD_dict[run_number] = np.load(os.environ['RESULTSPATH']+'/CSPAD-run-%d.npy' % run_number)\n",
    "\n",
    "# CSPAD_summed = np.zeros((8,512,1024,6))\n",
    "# runs = []\n",
    "# for key in CSPAD_dict.keys():\n",
    "#     runs.append(key)\n",
    "#     CSPAD_run = np.nanmean(CSPAD_dict[key], axis=-1)\n",
    "#     index = run_dict[key]\n",
    "#     print key, index, np.mean(CSPAD_run), np.nansum(CSPAD_dict[key])\n",
    "#     CSPAD_summed[:,:,:,index] = CSPAD_run\n",
    "# print runs\n",
    "# END SECTION 2"
   ]
  },
  {
   "cell_type": "markdown",
   "metadata": {},
   "source": [
    "# Plot CSPAD"
   ]
  },
  {
   "cell_type": "code",
   "execution_count": null,
   "metadata": {},
   "outputs": [],
   "source": [
    "CSPAD.shape"
   ]
  },
  {
   "cell_type": "markdown",
   "metadata": {},
   "source": [
    "### This has a modified plotCSPAD() function that can take in a list of ROIs [[x0,y0,dx,dy],...,[xn,yn,dx,dy]] and plot them on the detector as bright spots"
   ]
  },
  {
   "cell_type": "code",
   "execution_count": null,
   "metadata": {},
   "outputs": [],
   "source": [
    "from IPython.display import clear_output\n",
    "from plotStyles import *\n",
    "\n",
    "def plotCSPAD( cspad , x , y, cspadMask=None, zLims = None, divergent=False, NTILE=8, ROIs=None ):\n",
    "    figOpts = {'xLims':[-1e5,1e5],'yLims':[-1e5,1e5],'divergent':divergent, 'xIn':3, 'yIn':3*11.5/14.5}\n",
    "    \n",
    "    if zLims is not None:\n",
    "        figOpts['zLims'] = zLims\n",
    "    \n",
    "    for iTile in range(NTILE):\n",
    "    \n",
    "        if cspadMask is not None:\n",
    "            cspadTile = cspad[iTile,:,:]\n",
    "            tileMask = ~cspadMask[iTile,:,:]\n",
    "            cspadTile[tileMask] = 0\n",
    "        if ROIs:\n",
    "            for mask in ROIs:\n",
    "                x0 = mask[0]\n",
    "                y0 = mask[1]\n",
    "                dx = mask[2]\n",
    "                dy = mask[3]\n",
    "                roimask = ( x0 < x[iTile] ) & ( (x0+dx) > x[iTile] ) & ( y0 < y[iTile] ) & ( (y0+dy) > y[iTile] )\n",
    "                cspadTile[roimask] = 1000\n",
    "        \n",
    "        if iTile == 0:\n",
    "            newFigure = True\n",
    "        else:\n",
    "            newFigure = False\n",
    "        \n",
    "        clear_output()\n",
    "        colorPlot( x[iTile,:,:], y[iTile,:,:], cspadTile , newFigure=newFigure, **figOpts);\n",
    "\n",
    "\n",
    "x,y = CSPADgeometry(detType='Jungfrau', run=runNumber, experiment=experiment)\n",
    "# cspadMask = createMask(experiment=experiment, run=runNumber, detType='Jungfrau').astype(bool)\n",
    "cspadMask = np.ones_like(x).astype(bool)\n",
    "print(cspadMask.shape)\n",
    "\n",
    "\n",
    "CSPADbinned = 1e7*np.copy(CSPAD)\n",
    "CSPADbinned[CSPADbinned>10]=0\n",
    "        \n",
    "# plotCSPAD( cspadMask, x , y , cspadMask=cspadMask, divergent=True )\n",
    "# plotCSPAD( np.sum(CSPADbinned[:,:,:,:100], axis=-1)-np.sum(CSPADbinned[:,:,:,100:200], axis=-1), x , y , cspadMask=cspadMask, divergent=False, NTILE=8 )\n",
    "# plotCSPAD( 3000*(CSPADbinned[:,:,:,2]-CSPADbinned[:,:,:,1]), x , y , zLims=[-100,100],\n",
    "#           cspadMask=cspadMask, divergent=True, NTILE=8, ROIs=[[1e4,1e4,1e4,1e4],[5e4,1e4,1e4,1e4]] )\n",
    "# plotCSPAD( 3e8*(CSPAD_summed[:,:,:,0]-0*CSPAD_summed[:,:,:,0]), x , y , zLims=[-100,100],\n",
    "#           cspadMask=cspadMask, divergent=True, NTILE=8, ROIs=[[x1,y1,dx,dy]] )\n",
    "plotCSPAD( 3e11*(CSPAD_summed[:,:,:,2]-CSPAD_summed[:,:,:,0]), x , y , zLims=[-100,100],\n",
    "          cspadMask=cspadMask, divergent=True, NTILE=8, ROIs=[] )"
   ]
  },
  {
   "cell_type": "markdown",
   "metadata": {},
   "source": [
    "# ROI analysis"
   ]
  },
  {
   "cell_type": "code",
   "execution_count": null,
   "metadata": {},
   "outputs": [],
   "source": [
    "def roiSummed( x0, y0, dx, dy, x, y, image ):\n",
    "    idx = ( x0 < x ) & ( (x0+dx) > x ) & ( y0 < y ) & ( (y0+dy) > y )\n",
    "    return np.sum( image[idx , :] , 0 )\n",
    "\n",
    "x0, y0 = -2e4, -2.5e4\n",
    "x1, y1 = 5e4, -2e4\n",
    "dx, dy = 1.5e4, 1.5e4\n",
    "\n",
    "\n",
    "# roi1 = roiSummed( x0, y0, dx, dy, x, y, CSPADbinned )\n",
    "# errroi1 = roiSummed( x0, y0, dx, dy, x, y, variance )\n",
    "# roi2 = roiSummed( x1, y1, dx, dy, x, y, CSPADbinned )\n",
    "# errroi2 = roiSummed( x1, y1, dx, dy, x, y, variance )\n",
    "roi1 = roiSummed( x0, y0, dx, dy, x, y, CSPAD_summed )\n",
    "# errroi1 = roiSummed( x0, y0, dx, dy, x, y, variance )\n",
    "roi2 = roiSummed( x1, y1, dx, dy, x, y, CSPAD_summed )\n",
    "# errroi2 = roiSummed( x1, y1, dx, dy, x, y, variance )\n",
    "\n",
    "# errorratio = 1/roi2*np.sqrt(errroi1)+roi1/roi2**2*np.sqrt(errroi2)\n",
    "\n",
    "\n",
    "ratio = roi1/roi2\n",
    "plotme = ratio[~np.isnan(ratio)]#-ratio[~np.isnan(ratio)].min()\n",
    "print ratio\n",
    "# linePlot( timebins[~np.isnan(ratio)], plotme , newFigure = True)\n",
    "linePlot( np.array([-100,-50,-25,25,50,100]), plotme , newFigure = True)\n",
    "\n",
    "# plt.errorbar( timebins[~np.isnan(ratio)], plotme, yerr = errorratio[~np.isnan(ratio)] )"
   ]
  },
  {
   "cell_type": "code",
   "execution_count": null,
   "metadata": {},
   "outputs": [],
   "source": []
  }
 ],
 "metadata": {
  "kernelspec": {
   "display_name": "LCLS-I py2",
   "language": "python",
   "name": "ana1-current"
  },
  "language_info": {
   "codemirror_mode": {
    "name": "ipython",
    "version": 2
   },
   "file_extension": ".py",
   "mimetype": "text/x-python",
   "name": "python",
   "nbconvert_exporter": "python",
   "pygments_lexer": "ipython2",
   "version": "2.7.15"
  }
 },
 "nbformat": 4,
 "nbformat_minor": 2
}
