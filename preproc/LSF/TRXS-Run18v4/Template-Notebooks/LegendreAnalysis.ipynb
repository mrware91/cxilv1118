{
 "cells": [
  {
   "cell_type": "markdown",
   "metadata": {},
   "source": [
    "# Experiment and path specification"
   ]
  },
  {
   "cell_type": "code",
   "execution_count": null,
   "metadata": {},
   "outputs": [],
   "source": [
    "# Specify the experiment for analysis\n",
    "experiment='cxix40218'\n",
    "runNumber = 50\n",
    "\n",
    "# Set the installation and output path\n",
    "import os\n",
    "os.environ['INSTALLPATH']='/cds/home/i/igabalsk/TRXS-Run18'\n",
    "os.environ['OUTPUTPATH']= '/cds/data/psdm/%s/%s/scratch' % (experiment[0:3],experiment)"
   ]
  },
  {
   "cell_type": "markdown",
   "metadata": {},
   "source": [
    "# Import Libraries"
   ]
  },
  {
   "cell_type": "code",
   "execution_count": null,
   "metadata": {},
   "outputs": [],
   "source": [
    "# Magic iPython command to enable plotting\n",
    "%matplotlib inline\n",
    "\n",
    "# Load in the pythonBatchMagic library\n",
    "import sys\n",
    "sys.path.insert(0, os.environ['INSTALLPATH']+'/Libraries/pythonBatchMagic')\n",
    "from pythonBatchMagic import *\n",
    "# Determine current user\n",
    "currentUser, error = unixCMD(\"echo $USER\")\n",
    "print(currentUser)\n",
    "os.environ['RESULTSPATH']= ('/cds/data/psdm/%s/%s/results/%s' % (experiment[0:3],experiment,currentUser)).strip()\n",
    "if not os.path.exists(os.environ['RESULTSPATH']):\n",
    "    os.mkdir(os.environ['RESULTSPATH'])"
   ]
  },
  {
   "cell_type": "markdown",
   "metadata": {},
   "source": [
    "# Leveraging the batch queue to quickly grab point data"
   ]
  },
  {
   "cell_type": "markdown",
   "metadata": {},
   "source": [
    "## Loading libraries"
   ]
  },
  {
   "cell_type": "code",
   "execution_count": null,
   "metadata": {},
   "outputs": [],
   "source": [
    "sys.path.insert(0, os.environ['INSTALLPATH']+'/Libraries/LCLS')\n",
    "from LCLSdefault import *\n",
    "\n",
    "sys.path.insert(0, os.environ['INSTALLPATH']+'/Libraries/mattsTools')\n",
    "from picklez import *\n",
    "\n",
    "# Load in the get data library\n",
    "from dataAnalysis import *\n",
    "\n",
    "# Load in the batch library for lcls\n",
    "from lclsBatch import *"
   ]
  },
  {
   "cell_type": "markdown",
   "metadata": {},
   "source": [
    "# Load timebinned CSPAD"
   ]
  },
  {
   "cell_type": "code",
   "execution_count": null,
   "metadata": {},
   "outputs": [],
   "source": [
    "timebins = np.load(os.environ['RESULTSPATH']+'/timebins-run-%d.npy' % runNumber )\n",
    "CSPAD = np.load(os.environ['RESULTSPATH']+'/CSPAD-run-%d.npy' % runNumber)\n",
    "variance = np.load(os.environ['RESULTSPATH']+'/variance-run-%d.npy' % runNumber)\n",
    "counts = np.load(os.environ['RESULTSPATH']+'/counts-run-%d.npy' % runNumber)"
   ]
  },
  {
   "cell_type": "markdown",
   "metadata": {},
   "source": [
    "# Plot CSPAD"
   ]
  },
  {
   "cell_type": "code",
   "execution_count": null,
   "metadata": {},
   "outputs": [],
   "source": [
    "from IPython.display import clear_output\n",
    "from plotStyles import *\n",
    "\n",
    "def plotCSPAD( cspad , x , y, cspadMask=None, zLims = None, divergent=False, NTILE=8 ):\n",
    "    figOpts = {'xLims':[-1e5,1e5],'yLims':[-1e5,1e5],'divergent':divergent, 'xIn':3, 'yIn':3*11.5/14.5}\n",
    "    \n",
    "    if zLims is not None:\n",
    "        figOpts['zLims'] = zLims\n",
    "    \n",
    "    for iTile in range(NTILE):\n",
    "    \n",
    "        if cspadMask is not None:\n",
    "            cspadTile = cspad[iTile,:,:]\n",
    "            tileMask = ~cspadMask[iTile,:,:]\n",
    "            cspadTile[tileMask] = 0\n",
    "        \n",
    "        if iTile == 0:\n",
    "            newFigure = True\n",
    "        else:\n",
    "            newFigure = False\n",
    "            \n",
    "        clear_output()\n",
    "        colorPlot( x[iTile,:,:], y[iTile,:,:], cspadTile , newFigure=newFigure, **figOpts);\n",
    "\n",
    "x,y = CSPADgeometry(detType='Jungfrau', run=runNumber, experiment=experiment)\n",
    "# cspadMask = createMask(detType='Jungfrau', run=runNumber, experiment=experiment)\n",
    "cspadMask = np.ones_like(x).astype(bool)\n",
    "\n",
    "CSPADbinned = 1e-2*np.copy(CSPAD)\n",
    "# CSPADbinned[CSPADbinned>10]=0\n",
    "CSPAD2plot = np.nansum(CSPADbinned[:,:,:,:],axis=-1)#-CSPADbinned[:,:,:,53]\n",
    "plotCSPAD( CSPAD2plot, x , y , zLims=[0,2],\n",
    "          cspadMask=cspadMask, divergent=False, NTILE=8 )\n",
    "# plotCSPAD( np.sum(CSPADbinned[:,:,:,:], axis=-1), x , y , cspadMask=cspadMask, divergent=False, NTILE=8 )\n",
    "\n",
    "print CSPADbinned.shape"
   ]
  },
  {
   "cell_type": "markdown",
   "metadata": {},
   "source": [
    "# Geometry"
   ]
  },
  {
   "cell_type": "code",
   "execution_count": null,
   "metadata": {},
   "outputs": [],
   "source": [
    "# Read in geometry and measure during beamtime\n",
    "\n",
    "XC,YC = 88097, 93696 # center pixel locations\n",
    "X=np.array(x-XC)\n",
    "Y=np.array(y-YC)\n",
    "R=np.sqrt(np.power(X,2)+np.power(Y,2))\n",
    "L=69e3 # length between cell and \n",
    "\n",
    "# Use two-theta to calculate Q\n",
    "TwoTheta=np.arctan(R/L)\n",
    "Q = 4*np.pi*np.sin(TwoTheta/2)/1.3874;\n",
    "print np.max(Q)\n",
    "PHID = np.arctan2(X,Y)#Y,X)\n",
    "THETAD = TwoTheta;\n",
    "\n",
    "# Form the Thomson correction factor\n",
    "# THOMSON_CORRECTION = PHID; \n",
    "THOMSON_CORRECTION = ((np.sin(PHID)**2+np.cos(THETAD)**2.*np.cos(PHID)**2)); \n",
    "\n",
    "# Specify detector type ('Jungfrau' or 'CSPAD')\n",
    "detType = 'Jungfrau'"
   ]
  },
  {
   "cell_type": "markdown",
   "metadata": {},
   "source": [
    "# Legendre Analysis"
   ]
  },
  {
   "cell_type": "markdown",
   "metadata": {},
   "source": [
    "# Mask the cspad images**"
   ]
  },
  {
   "cell_type": "code",
   "execution_count": null,
   "metadata": {},
   "outputs": [],
   "source": [
    "\n",
    "CB=counts\n",
    "ValidIdx=np.squeeze(CB>50)\n",
    "Validbins=CB[ValidIdx]\n",
    "ValidT=timebins[ValidIdx]\n",
    "CSPADV=CSPAD[:,:,:,ValidIdx]\n",
    "CSPAD_VAR=variance[:,:,:,ValidIdx]\n",
    "NT=Validbins.shape[0]\n",
    "\n",
    "if detType=='Jungfrau':\n",
    "    CSPAD_MASKED=np.zeros((8,512,1024,NT))\n",
    "    CSPAD_VAR_MASKED=np.zeros((8,512,1024,NT))\n",
    "    CSPAD_MSTD_MASKED=np.zeros((8,512,1024,NT))\n",
    "    N_pixels = 8*512*1024\n",
    "elif detType=='CSPAD':  \n",
    "    CSPAD_MASKED=np.zeros((32,185,388,NT))\n",
    "    CSPAD_VAR_MASKED=np.zeros((32,185,388,NT))\n",
    "    CSPAD_MSTD_MASKED=np.zeros((32,185,388,NT))\n",
    "    N_pixels = 32*185*388\n",
    "else:\n",
    "    raise ValueError('detType must be CSPAD or Jungfrau')\n",
    "\n",
    "Mask = cspadMask<1\n",
    "\n",
    "iPlaced=0\n",
    "for itrT in xrange(NT):\n",
    "    print((itrT,NT))\n",
    "    CSPAD_IMAGE = CSPADV[:,:,:,itrT]\n",
    "    CSPAD_IMAGE_VAR = CSPAD_VAR[:,:,:,itrT]\n",
    "    CSPAD_IMAGE_MSTD = np.sqrt(CSPAD_IMAGE_VAR / float(Validbins[itrT]))\n",
    "    \n",
    "    CSPAD_IMAGE[Mask > 0] =  np.nan*CSPAD_IMAGE[Mask > 0];\n",
    "    CSPAD_IMAGE_VAR[Mask > 0] =  np.nan*CSPAD_IMAGE_VAR[Mask > 0];\n",
    "    CSPAD_IMAGE_MSTD[Mask > 0] =  np.nan*CSPAD_IMAGE_MSTD[Mask > 0];\n",
    "    \n",
    "    CSPAD_MASKED[:,:,:,itrT]= CSPAD_IMAGE\n",
    "    CSPAD_VAR_MASKED[:,:,:,itrT]= CSPAD_IMAGE_VAR\n",
    "    CSPAD_MSTD_MASKED[:,:,:,itrT]= CSPAD_IMAGE_MSTD"
   ]
  },
  {
   "cell_type": "code",
   "execution_count": null,
   "metadata": {},
   "outputs": [],
   "source": []
  },
  {
   "cell_type": "markdown",
   "metadata": {},
   "source": [
    "\n",
    "## Rebinning from x,y to Qx,Qy to Q,theta\n",
    "\n",
    "## x,y -> Qx,Qy"
   ]
  },
  {
   "cell_type": "code",
   "execution_count": null,
   "metadata": {},
   "outputs": [],
   "source": [
    "\n",
    "time0 = time.time()\n",
    "# NQ = 100\n",
    "NQ = 250 # Must be divisible by 2\n",
    "QMIN = 0.\n",
    "QMAX = 4.5\n",
    "qGrid = np.linspace(QMIN,QMAX,NQ)\n",
    "\n",
    "# specify wavelength here, to give Q/pixel\n",
    "k0 = 4.5287 # 2pi/lambda\n",
    "scaling_fac = np.sqrt(1.-Q**2 / (4.* k0**2)) #scaling for molecular space\n",
    "angles_old = np.arctan2(Y, X)\n",
    "angles = np.arccos(scaling_fac*np.cos(angles_old))\n",
    "QX = Q * np.absolute(np.cos(angles))\n",
    "QY = Q * np.absolute(np.sin(angles))\n",
    "\n",
    "indX = np.round(float(NQ)*QX/QMAX)\n",
    "indX = indX.flatten()\n",
    "\n",
    "indY = np.round(float(NQ)*QY/QMAX)\n",
    "indY = indY.flatten()\n",
    "\n",
    "## THIS IS RIGHT BUT I FORGOT NANS!!!!\n",
    "my_filter = (Mask < 1).flatten()\n",
    "\n",
    "my_imgs = np.reshape(CSPAD_MASKED/np.repeat(np.expand_dims(THOMSON_CORRECTION,3),NT,axis=3),(N_pixels, NT))\n",
    "my_vars = np.reshape(CSPAD_VAR_MASKED/np.repeat(np.expand_dims(THOMSON_CORRECTION**2,3),NT,axis=3),(N_pixels, NT))\n",
    "my_mstds = np.reshape(CSPAD_MSTD_MASKED/np.repeat(np.expand_dims(THOMSON_CORRECTION,3),NT,axis=3),(N_pixels, NT))\n",
    "imgQ = np.zeros((NQ,NQ,NT))\n",
    "varQ = np.zeros((NQ,NQ,NT))\n",
    "mstdQ = np.zeros((NQ,NQ,NT))\n",
    "numQ = np.zeros((NQ,NQ))\n",
    "\n",
    "print 'Rebinning the CSPAD in Qx-Qy space between ', QMIN, ' and ', QMAX, 'using NQ = ', NQ\n",
    "\n",
    "for iX in xrange(NQ):\n",
    "    print 'Iteration [%d], Time elapse %f' % (iX,time.time()-time0)\n",
    "    for iY in xrange(NQ):\n",
    "        inds = (indX == iX)*(indY == iY)*(my_filter.astype(bool))\n",
    "        \n",
    "        numQ[iX,iY] += inds.sum()\n",
    "        \n",
    "        red_img = sum(np.compress(inds,my_imgs,axis=0))\n",
    "        red_mstd = sum(np.compress(inds,my_mstds,axis=0))\n",
    "        red_var = sum(np.compress(inds,my_vars,axis=0))\n",
    "        \n",
    "        imgQ[iX,iY,:] += np.squeeze(imgQ[iX,iY,:]) + red_img\n",
    "        mstdQ[iX,iY,:] += np.squeeze(mstdQ[iX,iY,:]) + red_mstd\n",
    "        varQ[iX,iY,:] += np.squeeze(varQ[iX,iY,:]) + red_var\n",
    "\n",
    "\n",
    "\n"
   ]
  },
  {
   "cell_type": "code",
   "execution_count": null,
   "metadata": {},
   "outputs": [],
   "source": [
    "plotCSPAD( np.nansum(CSPADbinned[:,:,:,:],axis=-1), QX , QY , cspadMask=cspadMask, divergent=False)\n",
    "plt.ylim([-QMAX,QMAX])\n",
    "plt.xlim([-QMAX,QMAX])"
   ]
  },
  {
   "cell_type": "markdown",
   "metadata": {},
   "source": [
    "## Plotting the difference signal in Qx-Qy"
   ]
  },
  {
   "cell_type": "code",
   "execution_count": null,
   "metadata": {},
   "outputs": [],
   "source": [
    "from matplotlib import cm\n",
    "plt.close()\n",
    "fig, ax = plt.subplots()\n",
    "\n",
    "plotQ = (imgQ[:,:,2]-imgQ[:,:,1])/numQ;\n",
    "# plotQ[np.isnan(plotQ)] = 0\n",
    "# plotQ = numQ;\n",
    "\n",
    "# #cax = ax.imshow(data, interpolation='nearest', cmap=cm.coolwarm)#, vmin=-200, vmax=200)\n",
    "# cax = ax.pcolormesh(QX.flatten(),QY.flatten(),plotQ.flatten())#, interpolation='nearest', cmap=cm.coolwarm)#, vmin=-200, vmax=2\n",
    "cax = ax.imshow(plotQ) #, vmin=0, vmax=1e2)#, interpolation='nearest', cmap=cm.coolwarm)#, vmin=-200, vmax=200)\n",
    "ax.set_title('Qx,Qy CSPAD image')\n",
    "\n",
    "cbar = fig.colorbar(cax)\n",
    "\n",
    "plt.show()"
   ]
  },
  {
   "cell_type": "markdown",
   "metadata": {},
   "source": [
    "## Plotting the mean standard deviation in Qx-Qy"
   ]
  },
  {
   "cell_type": "code",
   "execution_count": null,
   "metadata": {},
   "outputs": [],
   "source": [
    "from matplotlib import cm\n",
    "plt.close()\n",
    "fig, ax = plt.subplots()\n",
    "\n",
    "plotQ = (mstdQ[:,:,2])/numQ;\n",
    "# plotQ = numQ;\n",
    "\n",
    "# #cax = ax.imshow(data, interpolation='nearest', cmap=cm.coolwarm)#, vmin=-200, vmax=200)\n",
    "# cax = ax.pcolormesh(QX.flatten(),QY.flatten(),plotQ.flatten())#, interpolation='nearest', cmap=cm.coolwarm)#, vmin=-200, vmax=2\n",
    "cax = ax.imshow(plotQ)#, vmin=0, vmax=1e2)#, interpolation='nearest', cmap=cm.coolwarm)#, vmin=-200, vmax=200)\n",
    "ax.set_title('Qx,Qy CSPAD image')\n",
    "\n",
    "cbar = fig.colorbar(cax)\n",
    "\n",
    "plt.show()"
   ]
  },
  {
   "cell_type": "markdown",
   "metadata": {},
   "source": [
    "## Qx, Qy -> Q, theta"
   ]
  },
  {
   "cell_type": "code",
   "execution_count": null,
   "metadata": {},
   "outputs": [],
   "source": [
    "# Create the new `D Q and theta grids\n",
    "NQ2 = NQ/2\n",
    "# NQ2 = NQ/4\n",
    "# NQ2 = NQ\n",
    "qGrid2 = np.linspace(QMIN,QMAX,NQ2)\n",
    "print 'Rebinning the CSPAD in Qx-Qy space between ', QMIN, ' and ', QMAX, 'using NQ = ', NQ2\n",
    "\n",
    "NTHETAS = np.floor(np.pi*np.arange(NQ)/2)\n",
    "NTHETA_MAX = NTHETAS[-1]\n",
    "\n",
    "THETAS = np.zeros((NQ2,NTHETA_MAX))\n",
    "for itr in xrange(NQ2):\n",
    "    placeme=np.linspace(0,(np.pi)/2,NTHETAS[itr])\n",
    "    THETAS[itr,0:len(placeme)]=placeme\n",
    "\n",
    "# Initialize the storage arrays\n",
    "imgQT=np.zeros((NQ2,NTHETA_MAX,NT))\n",
    "mstdQT=np.zeros((NQ2,NTHETA_MAX,NT))\n",
    "varQT=np.zeros((NQ2,NTHETA_MAX,NT))\n",
    "numQT=np.zeros((NQ2,NTHETA_MAX))\n",
    "\n",
    "# Find the original Q and angles\n",
    "QX2, QY2=np.meshgrid(qGrid,qGrid)\n",
    "Q2    = np.sqrt(QX2**2+QY2**2)\n",
    "ANGLES=np.arctan2(QX2,QY2)\n",
    "\n",
    "def find_nearest(array,value):\n",
    "    try:\n",
    "        idx = (np.abs(array-value)).argmin()\n",
    "        return idx\n",
    "    except ValueError:\n",
    "        return 0\n",
    "\n",
    "# Loop to place elements\n",
    "time0=time.time()\n",
    "for iQx in xrange(NQ):\n",
    "    print 'Iteration [%d], Time elapse %f' % (iQx,time.time()-time0)\n",
    "    for iQy in xrange(NQ):\n",
    "        if numQ[iQx,iQy] > 0:\n",
    "            idQ=find_nearest(qGrid2,Q2[iQx,iQy])\n",
    "            idTH=find_nearest(np.squeeze(THETAS[idQ,0:NTHETAS[idQ]]),ANGLES[iQx,iQy])\n",
    "            imgQT[idQ,idTH,:]+=imgQ[iQx,iQy,:]\n",
    "            varQT[idQ,idTH,:]+=varQ[iQx,iQy,:]\n",
    "            mstdQT[idQ,idTH,:]+=mstdQ[iQx,iQy,:]\n",
    "            numQT[idQ,idTH]+=numQ[iQx,iQy]\n",
    "\n",
    "print(imgQT.shape)"
   ]
  },
  {
   "cell_type": "markdown",
   "metadata": {},
   "source": [
    "## Plot the image in Q, theta"
   ]
  },
  {
   "cell_type": "code",
   "execution_count": null,
   "metadata": {},
   "outputs": [],
   "source": [
    "plt.close()\n",
    "fig, ax = plt.subplots()\n",
    "\n",
    "plotQ = (imgQT[:,:,2]-np.mean(imgQT[:,:,0:1],axis=2))/numQT\n",
    "\n",
    "cax = ax.imshow(plotQ, interpolation='bicubic', cmap=cm.coolwarm)\n",
    "# clims=np.array([-1,1])*1e-1\n",
    "# cax = ax.imshow(plotQ, vmin=clims[0], vmax=clims[1], interpolation='bicubic', cmap=cm.coolwarm)#, vmin=-200, vmax=200)\n",
    "\n",
    "ax.set_title('Q,theta CSPAD image')\n",
    "\n",
    "cbar = fig.colorbar(cax)\n",
    "\n",
    "plt.show()"
   ]
  },
  {
   "cell_type": "markdown",
   "metadata": {},
   "source": [
    "## Plot mean standard deviation in Q, theta"
   ]
  },
  {
   "cell_type": "code",
   "execution_count": null,
   "metadata": {},
   "outputs": [],
   "source": [
    "plt.close()\n",
    "fig, ax = plt.subplots()\n",
    "\n",
    "plotQ = (mstdQT[:,:,1])/numQT\n",
    "\n",
    "cax = ax.imshow(plotQ, interpolation='bicubic', cmap=cm.coolwarm)\n",
    "# clims=np.array([-1,1])*1e-1\n",
    "# cax = ax.imshow(plotQ, vmin=clims[0], vmax=clims[1], interpolation='bicubic', cmap=cm.coolwarm)#, vmin=-200, vmax=200)\n",
    "\n",
    "ax.set_title('Q,theta CSPAD image')\n",
    "\n",
    "cbar = fig.colorbar(cax)\n",
    "\n",
    "plt.show()\n",
    "\n",
    "print np.sum(mstdQT < 0)"
   ]
  },
  {
   "cell_type": "markdown",
   "metadata": {},
   "source": [
    "## Legendre Analysis"
   ]
  },
  {
   "cell_type": "code",
   "execution_count": null,
   "metadata": {},
   "outputs": [],
   "source": [
    "from scipy.special import legendre\n",
    "\n",
    "def orthonormal_legendre_poly(n):\n",
    "    return legendre(n)*np.sqrt((2.*n+1.)/2.)\n",
    "\n",
    "def orthonormal_legendre_eval(n,x):\n",
    "    p = orthonormal_legendre_poly(n)\n",
    "    return p(x)\n",
    "\n",
    "def generate_orthonormal_legendre_mat(lmax,x,even_only=True):\n",
    "    if even_only:\n",
    "        DL = 2\n",
    "        NL = lmax/2 + 1\n",
    "    else:\n",
    "        DL = 1\n",
    "        NL = lmax + 1\n",
    "        \n",
    "    P = np.zeros((NL,x.shape[0]))\n",
    "    for idx, l in enumerate(xrange(0,lmax+DL,DL)):\n",
    "        P[idx,:] = orthonormal_legendre_eval(l,x)\n",
    "        \n",
    "    return P\n",
    "\n",
    "def chi_square(mean,mean_std,model,x):\n",
    "    v0 = np.dot(x,model)\n",
    "    vd = (v0 - mean) / mean_std\n",
    "    return np.dot(vd,vd)\n",
    "\n",
    "def chi_square_min(mean,mean_std,model):\n",
    "    fx = np.dot(model, mean/mean_std**2)\n",
    "    B  = np.dot(np.dot(model, np.diag(mean_std**-2)),model.transpose())\n",
    "#     print B\n",
    "    Bi = np.linalg.solve(B.T.dot(B), B.T)\n",
    "#     Bi = np.linalg.inv(B)\n",
    "    A  = np.dot(Bi,model)\n",
    "    \n",
    "    xmin = np.dot(A,mean/mean_std**2)\n",
    "    \n",
    "#     print mean_std\n",
    "    mstd = np.dot(np.abs(A),mean_std)\n",
    "#     print mstd\n",
    "    \n",
    "    cs   = chi_square(mean,mean_std,model,xmin)\n",
    "    return {'xmin':xmin,'mstd':mstd, 'error_ratio':mstd/xmin,'cs':cs}\n",
    "  \n",
    "def generate_chi_square_map( lmax, NTHETAS, THETAS, imgQT, varQT, numQT, NT, NQ2, even_only=True ):\n",
    "    lm      = np.zeros((lmax/2+1,NQ2,NT))\n",
    "    lmstd   = np.zeros((lmax/2+1,NQ2,NT))\n",
    "    cs_sum  = []\n",
    "    cs0_sum = []\n",
    "    NP = 0\n",
    "    ND = 0\n",
    "\n",
    "    for iT in xrange(0,NT):\n",
    "        for iQ in xrange(10,NQ2):\n",
    "            iThs = np.arange(0,NTHETAS[iQ]).astype(int)\n",
    "\n",
    "            ValidIdxs = numQT[iQ,iThs] > 0\n",
    "            iThs = iThs[ValidIdxs]\n",
    "\n",
    "            P = generate_orthonormal_legendre_mat(lmax,THETAS[iQ,iThs])\n",
    "\n",
    "            # print imgQT[iQ,iThs,iT]/numQT[iQ,iThs]\n",
    "            # print mstdQT[iQ,iThs,iT]/numQT[iQ,iThs]\n",
    "\n",
    "            means = imgQT[iQ,iThs,iT]/numQT[iQ,iThs]\n",
    "            mstds = np.sqrt(varQT[iQ,iThs,iT]/numQT[iQ,iThs])\n",
    "            reg=np.max(np.abs(means))\n",
    "\n",
    "            means = means/reg\n",
    "            mstds = mstds/reg\n",
    "            \n",
    "\n",
    "            model = chi_square_min(means , mstds, P)\n",
    "#             model = chi_square_min(means , np.sqrt(np.abs(means)), P)\n",
    "#             model = chi_square_min(means , np.ones_like(means), P)\n",
    "            lm[:,iQ,iT] = model['xmin']*reg\n",
    "            lmstd[:,iQ,iT] = model['mstd']*reg\n",
    "            \n",
    "            cs_sum.append(model['cs'])\n",
    "            cs0_sum.append( chi_square(means,mstds,P,np.zeros_like(model['xmin'])) )\n",
    "            \n",
    "            if ~np.isnan(cs_sum[iT]):\n",
    "                NP+=lmax/2+1\n",
    "                ND+=means.shape[0]\n",
    "            \n",
    "#     return lm, lmstd, np.nanmean(cs_sum)/(lmax/2+1), np.nanmean(cs0_sum)/(lmax/2+1)\n",
    "    return lm, lmstd, np.nansum(cs_sum), np.nansum(cs0_sum), ND, NP\n",
    "    \n",
    "\n",
    "lmax = 6\n",
    "lm, lmstd, cs, cs0, ND, NP = generate_chi_square_map(lmax, NTHETAS, THETAS, imgQT, varQT, numQT, NT, NQ2, even_only=True )\n",
    "\n",
    "\n",
    "    \n",
    "\n",
    "\n",
    "\n"
   ]
  },
  {
   "cell_type": "code",
   "execution_count": null,
   "metadata": {},
   "outputs": [],
   "source": [
    "l=0\n",
    "t_inds = np.arange(0,NT).astype(int)\n",
    "\n",
    "plt.close()\n",
    "fig, ax = plt.subplots()\n",
    "\n",
    "clims = np.array([-1,1])\n",
    "\n",
    "plotme = lm[l,:,t_inds].transpose()\n",
    "t0 = plotme[:,0]\n",
    "plotme = plotme - t0[:,np.newaxis]\n",
    "\n",
    "cax = ax.pcolormesh(ValidT[t_inds]+1.1,qGrid2,plotme)#,vmin=clims[0],vmax=clims[1])\n",
    "\n",
    "cbar = fig.colorbar(cax)\n",
    "plt.ylim([1.,4.])\n",
    "# plt.xlim([-.2,1.5])\n",
    "plt.show()"
   ]
  },
  {
   "cell_type": "code",
   "execution_count": null,
   "metadata": {},
   "outputs": [],
   "source": [
    "l=0\n",
    "t_inds = np.arange(0,NT).astype(int)\n",
    "\n",
    "plt.close()\n",
    "fig, ax = plt.subplots()\n",
    "\n",
    "clims = np.array([-1,1])*2e1\n",
    "\n",
    "plotme = lmstd[l,:,t_inds].transpose()\n",
    "t0 = plotme[:,0]\n",
    "plotme = plotme + t0[:,np.newaxis]\n",
    "\n",
    "cax = ax.pcolormesh(ValidT[t_inds]+1.1,qGrid2,plotme,vmin=clims[0],vmax=clims[1])\n",
    "\n",
    "cbar = fig.colorbar(cax)\n",
    "plt.ylim([1.,4.])\n",
    "# plt.xlim([-.2,1.5])\n",
    "plt.show()"
   ]
  },
  {
   "cell_type": "code",
   "execution_count": null,
   "metadata": {},
   "outputs": [],
   "source": [
    "\n",
    "import h5py\n",
    "\n",
    "hf = h5py.File(os.environ['RESULTSPATH']+'/legendre-analysis-run-%d.h5' % runNumber, 'w')\n",
    "\n",
    "hf.create_dataset('mean', data=lm)\n",
    "hf.create_dataset('std', data=lmstd)\n",
    "hf.create_dataset('timebins', data=ValidT)\n",
    "hf.create_dataset('Q', data=qGrid2)\n",
    "hf.create_dataset('legendres', data=np.array([0,2,4,6]))\n",
    "\n",
    "hf.close()\n"
   ]
  },
  {
   "cell_type": "code",
   "execution_count": null,
   "metadata": {},
   "outputs": [],
   "source": []
  }
 ],
 "metadata": {
  "kernelspec": {
   "display_name": "LCLS-I py2",
   "language": "python",
   "name": "ana1-current"
  },
  "language_info": {
   "codemirror_mode": {
    "name": "ipython",
    "version": 2
   },
   "file_extension": ".py",
   "mimetype": "text/x-python",
   "name": "python",
   "nbconvert_exporter": "python",
   "pygments_lexer": "ipython2",
   "version": "2.7.15"
  }
 },
 "nbformat": 4,
 "nbformat_minor": 2
}
