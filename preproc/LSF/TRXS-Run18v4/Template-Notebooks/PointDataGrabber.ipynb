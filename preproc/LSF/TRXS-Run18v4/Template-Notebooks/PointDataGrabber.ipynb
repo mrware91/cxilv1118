{
 "cells": [
  {
   "cell_type": "markdown",
   "metadata": {},
   "source": [
    "# Experiment and path specification"
   ]
  },
  {
   "cell_type": "code",
   "execution_count": null,
   "metadata": {},
   "outputs": [],
   "source": [
    "# Specify the experiment for analysis\n",
    "experiment='cxix40218'\n",
    "runNumber = 58\n",
    "\n",
    "# Set the installation and output path\n",
    "import os\n",
    "os.environ['INSTALLPATH']= '/cds/home/i/igabalsk/TRXS-Run18'\n",
    "os.environ['OUTPUTPATH']= '/cds/data/psdm/%s/%s/scratch' % (experiment[0:3],experiment)"
   ]
  },
  {
   "cell_type": "markdown",
   "metadata": {},
   "source": [
    "# Import Libraries"
   ]
  },
  {
   "cell_type": "code",
   "execution_count": null,
   "metadata": {},
   "outputs": [],
   "source": [
    "# Magic iPython command to enable plotting\n",
    "%matplotlib inline\n",
    "\n",
    "# Load in the pythonBatchMagic library\n",
    "import sys\n",
    "sys.path.insert(0, os.environ['INSTALLPATH']+'/Libraries/pythonBatchMagic')\n",
    "from pythonBatchMagic import *\n",
    "\n",
    "# Determine current user\n",
    "currentUser, error = unixCMD(\"echo $USER\")\n",
    "currentUser = currentUser.strip()\n",
    "print(currentUser)\n",
    "os.environ['RESULTSPATH']= ('/cds/data/psdm/%s/%s/results/%s' % (experiment[0:3],experiment,currentUser)).strip()\n",
    "if not os.path.exists(os.environ['RESULTSPATH']):\n",
    "    os.mkdir(os.environ['RESULTSPATH'])"
   ]
  },
  {
   "cell_type": "markdown",
   "metadata": {},
   "source": [
    "# Leveraging the batch queue to quickly grab point data"
   ]
  },
  {
   "cell_type": "markdown",
   "metadata": {},
   "source": [
    "## Loading libraries"
   ]
  },
  {
   "cell_type": "code",
   "execution_count": null,
   "metadata": {},
   "outputs": [],
   "source": [
    "sys.path.insert(0, os.environ['INSTALLPATH']+'/Libraries/LCLS')\n",
    "from LCLSdefault import *\n",
    "\n",
    "sys.path.insert(0, os.environ['INSTALLPATH']+'/Libraries/mattsLibraries')\n",
    "from picklez import *\n",
    "\n",
    "# Load in the get data library\n",
    "from dataAnalysis import *\n",
    "\n",
    "# Load in the batch library for lcls\n",
    "from lclsBatch import *"
   ]
  },
  {
   "cell_type": "markdown",
   "metadata": {},
   "source": [
    "## Grabbing point data across nodes"
   ]
  },
  {
   "cell_type": "code",
   "execution_count": null,
   "metadata": {
    "scrolled": true
   },
   "outputs": [],
   "source": [
    "detDict = {\n",
    "#     'uvint':{'name': 'Acqiris','get-function':'getAcqirisSum2'},\n",
    "#            'uvint1':{'name': 'Acqiris','get-function':'getAcqirisSum1'},\n",
    "           'xrayEnergy':{'name':'FEEGasDetEnergy','get-function': 'getXrayEnergy' },\n",
    "           'ebeamcharge':{'name':'EBeam', 'get-function': 'getEbeamCharge'},\n",
    "          'stageencoder':{'name':'CXI:LAS:MMN:04.RBV','get-function':'getStageEncoder'},\n",
    "          'ttfltpos':{'name':'CXI:TIMETOOL:FLTPOS', 'get-function': 'getTTFltPos'},\n",
    "          'vitpos':{'name':'LAS:FS5:VIT:FS_TGT_TIME_DIAL', 'get-function': 'getTTFltPos'},\n",
    "           'xint':{'name':'CxiDg3_Imb01','get-function': 'getIPM' },\n",
    "           'xpos':{'name':'CxiDg3_Imb01','get-function': 'getXPos' },\n",
    "           'ypos':{'name':'CxiDg3_Imb01','get-function': 'getYPos' },\n",
    "          'seconds':{'name':'seconds', 'get-function': 'getSeconds'},\n",
    "          'nanoseconds':{'name':'nanonseconds', 'get-function': 'getNanoseconds'},\n",
    "          'fiducials':{'name':'fiducials', 'get-function': 'getFiducials'}\n",
    "}\n",
    "print detDict.keys()\n",
    "NSHOTS = 100000\n",
    "ngrab = 500\n",
    "rank = int( float(NSHOTS)/float(ngrab) )\n",
    "print('Grabbing %d shots, %d events at a time, on %d nodes' %(NSHOTS,ngrab,rank))\n",
    "batchThreads = batchPointDataGrabber( detDict, eventMax=int(rank*ngrab), experiment=experiment, runNumber=runNumber, rank=int(rank) )\n",
    "# batchThreads.Queue = 'psanaq'\n",
    "batchThreads.Queue = 'psfehhiprioq'\n",
    "batchThreads.RunType = 'mpirun python2'\n",
    "batchThreads.start()"
   ]
  },
  {
   "cell_type": "markdown",
   "metadata": {},
   "source": [
    "## Check job status"
   ]
  },
  {
   "cell_type": "code",
   "execution_count": null,
   "metadata": {
    "scrolled": true
   },
   "outputs": [],
   "source": [
    "stdoutdata, stderrdata = bjobs()\n",
    "print stdoutdata\n",
    "print stderrdata"
   ]
  },
  {
   "cell_type": "markdown",
   "metadata": {},
   "source": [
    "## Kill threads if they die"
   ]
  },
  {
   "cell_type": "code",
   "execution_count": null,
   "metadata": {},
   "outputs": [],
   "source": [
    "batchThreads.requestStop()\n",
    "time.sleep(5)\n",
    "stdoutdata, stderrdata = bkill(killAll=True)\n",
    "print stdoutdata\n",
    "print stderrdata"
   ]
  },
  {
   "cell_type": "code",
   "execution_count": null,
   "metadata": {
    "scrolled": true
   },
   "outputs": [],
   "source": [
    "batchThreads.status"
   ]
  },
  {
   "cell_type": "code",
   "execution_count": null,
   "metadata": {
    "scrolled": false
   },
   "outputs": [],
   "source": [
    "batchThreads.gather()"
   ]
  },
  {
   "cell_type": "markdown",
   "metadata": {},
   "source": [
    "## Drop empty array values"
   ]
  },
  {
   "cell_type": "code",
   "execution_count": null,
   "metadata": {
    "scrolled": true
   },
   "outputs": [],
   "source": [
    "pointData = batchThreads.detArrays\n",
    "\n",
    "def dropEmpty(pointData):\n",
    "\n",
    "    filledBin = (pointData['seconds'] > 0)    \n",
    "\n",
    "    for key in pointData.keys():\n",
    "        pointData[key]=pointData[key][filledBin] \n",
    "        \n",
    "    return pointData\n",
    "\n",
    "def dropNaN(pointData):\n",
    "    goodBin = np.ones(pointData['seconds'].shape, dtype=bool)\n",
    "    for key in pointData.keys():\n",
    "        goodBin = goodBin & ~np.isnan(pointData[key])\n",
    "    for key in pointData.keys():\n",
    "        pointData[key]=pointData[key][goodBin]\n",
    "    return pointData\n",
    "print len(pointData['seconds'])\n",
    "pointData_masked = dropNaN(dropEmpty(pointData))\n",
    "print 'Number of good shots: ', len(pointData_masked['seconds'])"
   ]
  },
  {
   "cell_type": "markdown",
   "metadata": {},
   "source": [
    "## Save point data"
   ]
  },
  {
   "cell_type": "code",
   "execution_count": null,
   "metadata": {},
   "outputs": [],
   "source": [
    "from scipy.io import savemat\n",
    "save_obj( pointData_masked, os.environ['RESULTSPATH']+'/pointData-run-%d' % runNumber )\n",
    "savemat(os.environ['RESULTSPATH']+'/pointData-run-%d' % runNumber, pointData_masked)"
   ]
  },
  {
   "cell_type": "markdown",
   "metadata": {},
   "source": [
    "## Plot histogram of result"
   ]
  },
  {
   "cell_type": "code",
   "execution_count": null,
   "metadata": {},
   "outputs": [],
   "source": [
    "detArrays = pointData_masked\n",
    "\n",
    "# print detArrays['ttfltpos'].min()\n",
    "fig2, ax2 = plt.subplots(1, 1)\n",
    "goodTT = detArrays['ttfltpos'][detArrays['ttfltpos']<3]\n",
    "ax2.hist(detArrays['ttfltpos'], bins=500,normed=False, alpha=0.5);"
   ]
  },
  {
   "cell_type": "code",
   "execution_count": null,
   "metadata": {},
   "outputs": [],
   "source": []
  }
 ],
 "metadata": {
  "kernelspec": {
   "display_name": "LCLS-I py2",
   "language": "python",
   "name": "ana1-current"
  },
  "language_info": {
   "codemirror_mode": {
    "name": "ipython",
    "version": 2
   },
   "file_extension": ".py",
   "mimetype": "text/x-python",
   "name": "python",
   "nbconvert_exporter": "python",
   "pygments_lexer": "ipython2",
   "version": "2.7.15"
  }
 },
 "nbformat": 4,
 "nbformat_minor": 2
}
