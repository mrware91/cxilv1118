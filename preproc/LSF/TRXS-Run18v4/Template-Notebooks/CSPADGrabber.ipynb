{
 "cells": [
  {
   "cell_type": "markdown",
   "metadata": {},
   "source": [
    "# Experiment and path specification"
   ]
  },
  {
   "cell_type": "code",
   "execution_count": 1,
   "metadata": {},
   "outputs": [],
   "source": [
    "# Specify the experiment for analysis\n",
    "experiment='cxix40218'\n",
    "runNumber = 50\n",
    "experiment='cxilu9218'\n",
    "runNumber = 14\n",
    "\n",
    "# Set the installation and output path\n",
    "import os\n",
    "os.environ['INSTALLPATH']= '/cds/home/m/mrware/TRXS-dev/TRXS-Run18'\n",
    "os.environ['OUTPUTPATH']= '/cds/data/psdm/%s/%s/scratch' % (experiment[0:3],experiment)"
   ]
  },
  {
   "cell_type": "markdown",
   "metadata": {},
   "source": [
    "# Import Libraries"
   ]
  },
  {
   "cell_type": "code",
   "execution_count": 2,
   "metadata": {},
   "outputs": [
    {
     "name": "stdout",
     "output_type": "stream",
     "text": [
      "/cds/home/m/mrware/TRXS-dev/TRXS-Run18/Libraries/pythonBatchMagic\n",
      "Current user is mrware will output batch to /cds/data/psdm/cxi/cxilu9218/scratch/mrware/Batch\n",
      "mrware\n",
      "\n"
     ]
    }
   ],
   "source": [
    "# Magic iPython command to enable plotting\n",
    "%matplotlib inline\n",
    "\n",
    "# Load in the pythonBatchMagic library\n",
    "import sys\n",
    "print os.environ['INSTALLPATH']+'/Libraries/pythonBatchMagic'\n",
    "sys.path.insert(0, os.environ['INSTALLPATH']+'/Libraries/pythonBatchMagic')\n",
    "from pythonBatchMagic import *\n",
    "# Determine current user\n",
    "currentUser, error = unixCMD(\"echo $USER\")\n",
    "print(currentUser)\n",
    "os.environ['RESULTSPATH']= ('/cds/data/psdm/%s/%s/results/%s' % (experiment[0:3],experiment,currentUser)).strip()\n",
    "if not os.path.exists(os.environ['RESULTSPATH']):\n",
    "    os.mkdir(os.environ['RESULTSPATH'])"
   ]
  },
  {
   "cell_type": "markdown",
   "metadata": {},
   "source": [
    "# Leveraging the batch queue to quickly grab detector data"
   ]
  },
  {
   "cell_type": "markdown",
   "metadata": {},
   "source": [
    "## Loading libraries"
   ]
  },
  {
   "cell_type": "code",
   "execution_count": 3,
   "metadata": {},
   "outputs": [
    {
     "name": "stdout",
     "output_type": "stream",
     "text": [
      "IOError: Did you load the correct file? /cds/data/psdm/cxi/cxilu9218/scratch/Memories/getCSPADcoords\n",
      "Current user is mrware will output batch to /cds/data/psdm/cxi/cxilu9218/scratch/mrware/Batch\n"
     ]
    }
   ],
   "source": [
    "sys.path.insert(0, os.environ['INSTALLPATH']+'/Libraries/LCLS')\n",
    "from LCLSdefault import *\n",
    "\n",
    "sys.path.insert(0, os.environ['INSTALLPATH']+'/Libraries/mattsLibraries')\n",
    "from picklez import *\n",
    "\n",
    "# Load in the get data library\n",
    "from dataAnalysis import *\n",
    "\n",
    "# Load in the batch library for lcls\n",
    "from lclsBatch import *"
   ]
  },
  {
   "cell_type": "markdown",
   "metadata": {},
   "source": [
    "## Load point data"
   ]
  },
  {
   "cell_type": "code",
   "execution_count": 4,
   "metadata": {},
   "outputs": [
    {
     "name": "stdout",
     "output_type": "stream",
     "text": [
      "/cds/data/psdm/cxi/cxilu9218/results/mrware/pointData-run-14 remembered!\n"
     ]
    }
   ],
   "source": [
    "pointData = load_obj( os.environ['RESULTSPATH']+'/pointData-run-%d' % runNumber )"
   ]
  },
  {
   "cell_type": "markdown",
   "metadata": {},
   "source": [
    "## Plot histogram of result"
   ]
  },
  {
   "cell_type": "code",
   "execution_count": 7,
   "metadata": {},
   "outputs": [
    {
     "ename": "TypeError",
     "evalue": "ufunc 'isfinite' not supported for the input types, and the inputs could not be safely coerced to any supported types according to the casting rule ''safe''",
     "output_type": "error",
     "traceback": [
      "\u001b[0;31m\u001b[0m",
      "\u001b[0;31mTypeError\u001b[0mTraceback (most recent call last)",
      "\u001b[0;32m<ipython-input-7-c7d949d174cf>\u001b[0m in \u001b[0;36m<module>\u001b[0;34m()\u001b[0m\n\u001b[1;32m      2\u001b[0m \u001b[0;34m\u001b[0m\u001b[0m\n\u001b[1;32m      3\u001b[0m \u001b[0mfig2\u001b[0m\u001b[0;34m,\u001b[0m \u001b[0max2\u001b[0m \u001b[0;34m=\u001b[0m \u001b[0mplt\u001b[0m\u001b[0;34m.\u001b[0m\u001b[0msubplots\u001b[0m\u001b[0;34m(\u001b[0m\u001b[0;36m1\u001b[0m\u001b[0;34m,\u001b[0m \u001b[0;36m1\u001b[0m\u001b[0;34m)\u001b[0m\u001b[0;34m\u001b[0m\u001b[0m\n\u001b[0;32m----> 4\u001b[0;31m \u001b[0max2\u001b[0m\u001b[0;34m.\u001b[0m\u001b[0mhist\u001b[0m\u001b[0;34m(\u001b[0m\u001b[0mdetArrays\u001b[0m\u001b[0;34m[\u001b[0m\u001b[0;34m'uvint1'\u001b[0m\u001b[0;34m]\u001b[0m\u001b[0;34m,\u001b[0m \u001b[0mbins\u001b[0m\u001b[0;34m=\u001b[0m\u001b[0;36m100\u001b[0m\u001b[0;34m,\u001b[0m\u001b[0mnormed\u001b[0m\u001b[0;34m=\u001b[0m\u001b[0mFalse\u001b[0m\u001b[0;34m,\u001b[0m \u001b[0malpha\u001b[0m\u001b[0;34m=\u001b[0m\u001b[0;36m0.5\u001b[0m\u001b[0;34m)\u001b[0m\u001b[0;34m;\u001b[0m\u001b[0;34m\u001b[0m\u001b[0m\n\u001b[0m",
      "\u001b[0;32m/reg/g/psdm/sw/conda1/inst/miniconda2-prod-rhel7/envs/ana-2.0.11/lib/python2.7/site-packages/matplotlib/__init__.pyc\u001b[0m in \u001b[0;36minner\u001b[0;34m(ax, *args, **kwargs)\u001b[0m\n\u001b[1;32m   1868\u001b[0m                         \u001b[0;34m\"the Matplotlib list!)\"\u001b[0m \u001b[0;34m%\u001b[0m \u001b[0;34m(\u001b[0m\u001b[0mlabel_namer\u001b[0m\u001b[0;34m,\u001b[0m \u001b[0mfunc\u001b[0m\u001b[0;34m.\u001b[0m\u001b[0m__name__\u001b[0m\u001b[0;34m)\u001b[0m\u001b[0;34m,\u001b[0m\u001b[0;34m\u001b[0m\u001b[0m\n\u001b[1;32m   1869\u001b[0m                         RuntimeWarning, stacklevel=2)\n\u001b[0;32m-> 1870\u001b[0;31m             \u001b[0;32mreturn\u001b[0m \u001b[0mfunc\u001b[0m\u001b[0;34m(\u001b[0m\u001b[0max\u001b[0m\u001b[0;34m,\u001b[0m \u001b[0;34m*\u001b[0m\u001b[0margs\u001b[0m\u001b[0;34m,\u001b[0m \u001b[0;34m**\u001b[0m\u001b[0mkwargs\u001b[0m\u001b[0;34m)\u001b[0m\u001b[0;34m\u001b[0m\u001b[0m\n\u001b[0m\u001b[1;32m   1871\u001b[0m \u001b[0;34m\u001b[0m\u001b[0m\n\u001b[1;32m   1872\u001b[0m         inner.__doc__ = _add_data_doc(inner.__doc__,\n",
      "\u001b[0;32m/reg/g/psdm/sw/conda1/inst/miniconda2-prod-rhel7/envs/ana-2.0.11/lib/python2.7/site-packages/matplotlib/axes/_axes.pyc\u001b[0m in \u001b[0;36mhist\u001b[0;34m(***failed resolving arguments***)\u001b[0m\n\u001b[1;32m   6637\u001b[0m             \u001b[0;31m# this will automatically overwrite bins,\u001b[0m\u001b[0;34m\u001b[0m\u001b[0;34m\u001b[0m\u001b[0m\n\u001b[1;32m   6638\u001b[0m             \u001b[0;31m# so that each histogram uses the same bins\u001b[0m\u001b[0;34m\u001b[0m\u001b[0;34m\u001b[0m\u001b[0m\n\u001b[0;32m-> 6639\u001b[0;31m             \u001b[0mm\u001b[0m\u001b[0;34m,\u001b[0m \u001b[0mbins\u001b[0m \u001b[0;34m=\u001b[0m \u001b[0mnp\u001b[0m\u001b[0;34m.\u001b[0m\u001b[0mhistogram\u001b[0m\u001b[0;34m(\u001b[0m\u001b[0mx\u001b[0m\u001b[0;34m[\u001b[0m\u001b[0mi\u001b[0m\u001b[0;34m]\u001b[0m\u001b[0;34m,\u001b[0m \u001b[0mbins\u001b[0m\u001b[0;34m,\u001b[0m \u001b[0mweights\u001b[0m\u001b[0;34m=\u001b[0m\u001b[0mw\u001b[0m\u001b[0;34m[\u001b[0m\u001b[0mi\u001b[0m\u001b[0;34m]\u001b[0m\u001b[0;34m,\u001b[0m \u001b[0;34m**\u001b[0m\u001b[0mhist_kwargs\u001b[0m\u001b[0;34m)\u001b[0m\u001b[0;34m\u001b[0m\u001b[0m\n\u001b[0m\u001b[1;32m   6640\u001b[0m             \u001b[0mm\u001b[0m \u001b[0;34m=\u001b[0m \u001b[0mm\u001b[0m\u001b[0;34m.\u001b[0m\u001b[0mastype\u001b[0m\u001b[0;34m(\u001b[0m\u001b[0mfloat\u001b[0m\u001b[0;34m)\u001b[0m  \u001b[0;31m# causes problems later if it's an int\u001b[0m\u001b[0;34m\u001b[0m\u001b[0m\n\u001b[1;32m   6641\u001b[0m             \u001b[0;32mif\u001b[0m \u001b[0mmlast\u001b[0m \u001b[0;32mis\u001b[0m \u001b[0mNone\u001b[0m\u001b[0;34m:\u001b[0m\u001b[0;34m\u001b[0m\u001b[0m\n",
      "\u001b[0;32m/reg/g/psdm/sw/conda1/inst/miniconda2-prod-rhel7/envs/ana-2.0.11/lib/python2.7/site-packages/numpy/lib/histograms.pyc\u001b[0m in \u001b[0;36mhistogram\u001b[0;34m(a, bins, range, normed, weights, density)\u001b[0m\n\u001b[1;32m    778\u001b[0m     \u001b[0ma\u001b[0m\u001b[0;34m,\u001b[0m \u001b[0mweights\u001b[0m \u001b[0;34m=\u001b[0m \u001b[0m_ravel_and_check_weights\u001b[0m\u001b[0;34m(\u001b[0m\u001b[0ma\u001b[0m\u001b[0;34m,\u001b[0m \u001b[0mweights\u001b[0m\u001b[0;34m)\u001b[0m\u001b[0;34m\u001b[0m\u001b[0m\n\u001b[1;32m    779\u001b[0m \u001b[0;34m\u001b[0m\u001b[0m\n\u001b[0;32m--> 780\u001b[0;31m     \u001b[0mbin_edges\u001b[0m\u001b[0;34m,\u001b[0m \u001b[0muniform_bins\u001b[0m \u001b[0;34m=\u001b[0m \u001b[0m_get_bin_edges\u001b[0m\u001b[0;34m(\u001b[0m\u001b[0ma\u001b[0m\u001b[0;34m,\u001b[0m \u001b[0mbins\u001b[0m\u001b[0;34m,\u001b[0m \u001b[0mrange\u001b[0m\u001b[0;34m,\u001b[0m \u001b[0mweights\u001b[0m\u001b[0;34m)\u001b[0m\u001b[0;34m\u001b[0m\u001b[0m\n\u001b[0m\u001b[1;32m    781\u001b[0m \u001b[0;34m\u001b[0m\u001b[0m\n\u001b[1;32m    782\u001b[0m     \u001b[0;31m# Histogram is an integer or a float array depending on the weights.\u001b[0m\u001b[0;34m\u001b[0m\u001b[0;34m\u001b[0m\u001b[0m\n",
      "\u001b[0;32m/reg/g/psdm/sw/conda1/inst/miniconda2-prod-rhel7/envs/ana-2.0.11/lib/python2.7/site-packages/numpy/lib/histograms.pyc\u001b[0m in \u001b[0;36m_get_bin_edges\u001b[0;34m(a, bins, range, weights)\u001b[0m\n\u001b[1;32m    415\u001b[0m             \u001b[0;32mraise\u001b[0m \u001b[0mValueError\u001b[0m\u001b[0;34m(\u001b[0m\u001b[0;34m'`bins` must be positive, when an integer'\u001b[0m\u001b[0;34m)\u001b[0m\u001b[0;34m\u001b[0m\u001b[0m\n\u001b[1;32m    416\u001b[0m \u001b[0;34m\u001b[0m\u001b[0m\n\u001b[0;32m--> 417\u001b[0;31m         \u001b[0mfirst_edge\u001b[0m\u001b[0;34m,\u001b[0m \u001b[0mlast_edge\u001b[0m \u001b[0;34m=\u001b[0m \u001b[0m_get_outer_edges\u001b[0m\u001b[0;34m(\u001b[0m\u001b[0ma\u001b[0m\u001b[0;34m,\u001b[0m \u001b[0mrange\u001b[0m\u001b[0;34m)\u001b[0m\u001b[0;34m\u001b[0m\u001b[0m\n\u001b[0m\u001b[1;32m    418\u001b[0m \u001b[0;34m\u001b[0m\u001b[0m\n\u001b[1;32m    419\u001b[0m     \u001b[0;32melif\u001b[0m \u001b[0mnp\u001b[0m\u001b[0;34m.\u001b[0m\u001b[0mndim\u001b[0m\u001b[0;34m(\u001b[0m\u001b[0mbins\u001b[0m\u001b[0;34m)\u001b[0m \u001b[0;34m==\u001b[0m \u001b[0;36m1\u001b[0m\u001b[0;34m:\u001b[0m\u001b[0;34m\u001b[0m\u001b[0m\n",
      "\u001b[0;32m/reg/g/psdm/sw/conda1/inst/miniconda2-prod-rhel7/envs/ana-2.0.11/lib/python2.7/site-packages/numpy/lib/histograms.pyc\u001b[0m in \u001b[0;36m_get_outer_edges\u001b[0;34m(a, range)\u001b[0m\n\u001b[1;32m    303\u001b[0m             raise ValueError(\n\u001b[1;32m    304\u001b[0m                 'max must be larger than min in range parameter.')\n\u001b[0;32m--> 305\u001b[0;31m         \u001b[0;32mif\u001b[0m \u001b[0;32mnot\u001b[0m \u001b[0;34m(\u001b[0m\u001b[0mnp\u001b[0m\u001b[0;34m.\u001b[0m\u001b[0misfinite\u001b[0m\u001b[0;34m(\u001b[0m\u001b[0mfirst_edge\u001b[0m\u001b[0;34m)\u001b[0m \u001b[0;32mand\u001b[0m \u001b[0mnp\u001b[0m\u001b[0;34m.\u001b[0m\u001b[0misfinite\u001b[0m\u001b[0;34m(\u001b[0m\u001b[0mlast_edge\u001b[0m\u001b[0;34m)\u001b[0m\u001b[0;34m)\u001b[0m\u001b[0;34m:\u001b[0m\u001b[0;34m\u001b[0m\u001b[0m\n\u001b[0m\u001b[1;32m    306\u001b[0m             raise ValueError(\n\u001b[1;32m    307\u001b[0m                 \"supplied range of [{}, {}] is not finite\".format(first_edge, last_edge))\n",
      "\u001b[0;31mTypeError\u001b[0m: ufunc 'isfinite' not supported for the input types, and the inputs could not be safely coerced to any supported types according to the casting rule ''safe''"
     ]
    },
    {
     "data": {
      "image/png": "[encoded data removed]",
      "text/plain": [
       "<Figure size 432x288 with 1 Axes>"
      ]
     },
     "metadata": {
      "needs_background": "light"
     },
     "output_type": "display_data"
    }
   ],
   "source": [
    "detArrays = pointData\n",
    "\n",
    "fig2, ax2 = plt.subplots(1, 1)\n",
    "ax2.hist(detArrays['uvint1'], bins=100,normed=False, alpha=0.5);"
   ]
  },
  {
   "cell_type": "markdown",
   "metadata": {},
   "source": [
    "# Read in CSPAD via batch job"
   ]
  },
  {
   "cell_type": "markdown",
   "metadata": {},
   "source": [
    "## Specify good idxs"
   ]
  },
  {
   "cell_type": "code",
   "execution_count": 8,
   "metadata": {},
   "outputs": [
    {
     "ename": "TypeError",
     "evalue": "ufunc 'isnan' not supported for the input types, and the inputs could not be safely coerced to any supported types according to the casting rule ''safe''",
     "output_type": "error",
     "traceback": [
      "\u001b[0;31m\u001b[0m",
      "\u001b[0;31mTypeError\u001b[0mTraceback (most recent call last)",
      "\u001b[0;32m<ipython-input-8-7d9913ca0682>\u001b[0m in \u001b[0;36m<module>\u001b[0;34m()\u001b[0m\n\u001b[0;32m----> 1\u001b[0;31m \u001b[0mgoodIdx\u001b[0m \u001b[0;34m=\u001b[0m \u001b[0mrunFilter\u001b[0m\u001b[0;34m(\u001b[0m \u001b[0mpointData\u001b[0m \u001b[0;34m,\u001b[0m \u001b[0mfilterOn\u001b[0m\u001b[0;34m=\u001b[0m\u001b[0;34m[\u001b[0m\u001b[0;34m'xrayEnergy'\u001b[0m\u001b[0;34m,\u001b[0m \u001b[0;34m'ttfltpos'\u001b[0m\u001b[0;34m]\u001b[0m\u001b[0;34m,\u001b[0m \u001b[0mmaddevs\u001b[0m\u001b[0;34m=\u001b[0m\u001b[0;36m3\u001b[0m \u001b[0;34m)\u001b[0m\u001b[0;34m.\u001b[0m\u001b[0mastype\u001b[0m\u001b[0;34m(\u001b[0m\u001b[0mbool\u001b[0m\u001b[0;34m)\u001b[0m\u001b[0;34m\u001b[0m\u001b[0m\n\u001b[0m\u001b[1;32m      2\u001b[0m \u001b[0;32mprint\u001b[0m \u001b[0;34m'Number of good shots: '\u001b[0m\u001b[0;34m,\u001b[0m \u001b[0mlen\u001b[0m\u001b[0;34m(\u001b[0m\u001b[0mgoodIdx\u001b[0m\u001b[0;34m[\u001b[0m\u001b[0mgoodIdx\u001b[0m\u001b[0;34m==\u001b[0m\u001b[0mTrue\u001b[0m\u001b[0;34m]\u001b[0m\u001b[0;34m)\u001b[0m\u001b[0;34m\u001b[0m\u001b[0m\n",
      "\u001b[0;32m/cds/home/m/mrware/TRXS-dev/TRXS-Run18/Libraries/LCLS/dataAnalysis.pyc\u001b[0m in \u001b[0;36mrunFilter\u001b[0;34m(pointData, filterOn, maddevs)\u001b[0m\n\u001b[1;32m    930\u001b[0m \u001b[0;34m\u001b[0m\u001b[0m\n\u001b[1;32m    931\u001b[0m     \u001b[0;32mfor\u001b[0m \u001b[0mvar\u001b[0m \u001b[0;32min\u001b[0m \u001b[0mfilterOn\u001b[0m\u001b[0;34m:\u001b[0m\u001b[0;34m\u001b[0m\u001b[0m\n\u001b[0;32m--> 932\u001b[0;31m         \u001b[0mrunfilter\u001b[0m \u001b[0;34m=\u001b[0m \u001b[0mrunfilter\u001b[0m \u001b[0;34m*\u001b[0m \u001b[0mingroup\u001b[0m\u001b[0;34m(\u001b[0m \u001b[0mpointData\u001b[0m\u001b[0;34m[\u001b[0m\u001b[0mvar\u001b[0m\u001b[0;34m]\u001b[0m \u001b[0;34m,\u001b[0m \u001b[0mmaddevs\u001b[0m \u001b[0;34m=\u001b[0m \u001b[0mmaddevs\u001b[0m \u001b[0;34m)\u001b[0m\u001b[0;34m\u001b[0m\u001b[0m\n\u001b[0m\u001b[1;32m    933\u001b[0m \u001b[0;34m\u001b[0m\u001b[0m\n\u001b[1;32m    934\u001b[0m     \u001b[0;32mreturn\u001b[0m \u001b[0mrunfilter\u001b[0m\u001b[0;34m\u001b[0m\u001b[0m\n",
      "\u001b[0;32m/cds/home/m/mrware/TRXS-dev/TRXS-Run18/Libraries/LCLS/dataAnalysis.pyc\u001b[0m in \u001b[0;36mingroup\u001b[0;34m(anNParray, maddevs)\u001b[0m\n\u001b[1;32m    921\u001b[0m         \u001b[0man\u001b[0m \u001b[0marray\u001b[0m \u001b[0mof\u001b[0m \u001b[0;36m0\u001b[0m\u001b[0ms\u001b[0m \u001b[0;32mand\u001b[0m \u001b[0;36m1\u001b[0m\u001b[0ms\u001b[0m \u001b[0mcorresponding\u001b[0m \u001b[0mto\u001b[0m \u001b[0mbad\u001b[0m \u001b[0;32mand\u001b[0m \u001b[0mgood\u001b[0m \u001b[0mvalues\u001b[0m \u001b[0;32min\u001b[0m \u001b[0marray\u001b[0m \u001b[0;34m(\u001b[0m\u001b[0mboolean\u001b[0m\u001b[0;34m)\u001b[0m\u001b[0;34m\u001b[0m\u001b[0m\n\u001b[1;32m    922\u001b[0m     '''\n\u001b[0;32m--> 923\u001b[0;31m     \u001b[0manNParray\u001b[0m\u001b[0;34m[\u001b[0m \u001b[0mnp\u001b[0m\u001b[0;34m.\u001b[0m\u001b[0misnan\u001b[0m\u001b[0;34m(\u001b[0m\u001b[0manNParray\u001b[0m\u001b[0;34m)\u001b[0m \u001b[0;34m]\u001b[0m \u001b[0;34m=\u001b[0m \u001b[0;36m0\u001b[0m\u001b[0;34m\u001b[0m\u001b[0m\n\u001b[0m\u001b[1;32m    924\u001b[0m     \u001b[0mUB\u001b[0m \u001b[0;34m=\u001b[0m \u001b[0mnp\u001b[0m\u001b[0;34m.\u001b[0m\u001b[0mmedian\u001b[0m\u001b[0;34m(\u001b[0m\u001b[0manNParray\u001b[0m\u001b[0;34m)\u001b[0m \u001b[0;34m+\u001b[0m \u001b[0mmaddevs\u001b[0m\u001b[0;34m*\u001b[0m\u001b[0mmad\u001b[0m\u001b[0;34m(\u001b[0m\u001b[0manNParray\u001b[0m\u001b[0;34m)\u001b[0m\u001b[0;34m\u001b[0m\u001b[0m\n\u001b[1;32m    925\u001b[0m     \u001b[0mLB\u001b[0m \u001b[0;34m=\u001b[0m \u001b[0mnp\u001b[0m\u001b[0;34m.\u001b[0m\u001b[0mmedian\u001b[0m\u001b[0;34m(\u001b[0m\u001b[0manNParray\u001b[0m\u001b[0;34m)\u001b[0m \u001b[0;34m-\u001b[0m \u001b[0mmaddevs\u001b[0m\u001b[0;34m*\u001b[0m\u001b[0mmad\u001b[0m\u001b[0;34m(\u001b[0m\u001b[0manNParray\u001b[0m\u001b[0;34m)\u001b[0m\u001b[0;34m\u001b[0m\u001b[0m\n",
      "\u001b[0;31mTypeError\u001b[0m: ufunc 'isnan' not supported for the input types, and the inputs could not be safely coerced to any supported types according to the casting rule ''safe''"
     ]
    }
   ],
   "source": [
    "goodIdx = runFilter( pointData , filterOn=['xrayEnergy', 'ttfltpos'], maddevs=3 ).astype(bool)\n",
    "print 'Number of good shots: ', len(goodIdx[goodIdx==True])"
   ]
  },
  {
   "cell_type": "markdown",
   "metadata": {},
   "source": [
    "## Now generate time delays"
   ]
  },
  {
   "cell_type": "code",
   "execution_count": 8,
   "metadata": {},
   "outputs": [
    {
     "data": {
      "image/png": "[encoded data removed]",
      "text/plain": [
       "<Figure size 432x288 with 1 Axes>"
      ]
     },
     "metadata": {
      "needs_background": "light"
     },
     "output_type": "display_data"
    }
   ],
   "source": [
    "TTPoly = np.array([2.235e-7, -2.21e-3, 8.547e-1]) # ANDY, NOLAN, etc UPDATE ME\n",
    "\n",
    "TTFltPos = pointData['ttfltpos']\n",
    "TTCorrFltPos = TTPoly[0]*TTFltPos**2+TTPoly[1]*TTFltPos+TTPoly[2]\n",
    "TTTime = TTCorrFltPos - 1e9/3e8*2*(pointData['stageencoder']-56.35)\n",
    "\n",
    "# NOTE: This is a placeholder, and should be removed on runs with timetool data\n",
    "# TTTime = np.zeros(pointData['xrayEnergy'].shape)\n",
    "\n",
    "fig2, ax2 = plt.subplots(1, 1)\n",
    "ax2.hist(TTTime[goodIdx], bins=200,normed=False, alpha=0.5)\n",
    "ax2.set_xlabel('Delay (ps)')\n",
    "ax2.set_ylabel('Counts')\n",
    "plt.show()"
   ]
  },
  {
   "cell_type": "markdown",
   "metadata": {},
   "source": [
    "# Read in all images"
   ]
  },
  {
   "cell_type": "code",
   "execution_count": 16,
   "metadata": {
    "scrolled": true
   },
   "outputs": [
    {
     "name": "stdout",
     "output_type": "stream",
     "text": [
      "Grabbing 1000 shots, 10 events at a time, on 100 nodes\n",
      "Deleting the old output file ...\n",
      "Output: \n",
      "Error: None\n",
      "Deleting the old executable file ...\n",
      "Output: \n",
      "Error: None\n",
      "Submitting: ssh psana 'bsub -n 1 -R \"rusage[mem=7000]\" -q psfehhiprioq -o /cds/data/psdm/cxi/cxix40218/scratch/mrware/Batch/Output/CSPADMV-run-50-temp-CSPAD-0.out /cds/home/m/mrware/TRXS-dev/TRXS-Run18/Libraries/pythonBatchMagic/BatchWrapper.sh python2 /cds/data/psdm/cxi/cxix40218/scratch/mrware/Batch/Python/CSPADMV-run-50-temp-CSPAD-0.py; exit'\n",
      "Deleting the old output file ...\n",
      "Output: \n",
      "Error: None\n",
      "Deleting the old executable file ...\n",
      "Output: \n",
      "Error: None\n",
      "Submitting: ssh psana 'bsub -n 1 -R \"rusage[mem=7000]\" -q psfehhiprioq -o /cds/data/psdm/cxi/cxix40218/scratch/mrware/Batch/Output/CSPADMV-run-50-temp-CSPAD-1.out /cds/home/m/mrware/TRXS-dev/TRXS-Run18/Libraries/pythonBatchMagic/BatchWrapper.sh python2 /cds/data/psdm/cxi/cxix40218/scratch/mrware/Batch/Python/CSPADMV-run-50-temp-CSPAD-1.py; exit'\n",
      "Output: Job <220140> is submitted to queue <psfehhiprioq>.\n",
      "\n",
      "Error: \n",
      "Output: Job <220144> is submitted to queue <psfehhiprioq>.\n",
      "\n",
      "Error: \n",
      "Deleting the old output file ...\n",
      "Output: \n",
      "Error: None\n",
      "Deleting the old executable file ...\n",
      "Output: \n",
      "Error: None\n",
      "Submitting: ssh psana 'bsub -n 1 -R \"rusage[mem=7000]\" -q psfehhiprioq -o /cds/data/psdm/cxi/cxix40218/scratch/mrware/Batch/Output/CSPADMV-run-50-temp-CSPAD-2.out /cds/home/m/mrware/TRXS-dev/TRXS-Run18/Libraries/pythonBatchMagic/BatchWrapper.sh python2 /cds/data/psdm/cxi/cxix40218/scratch/mrware/Batch/Python/CSPADMV-run-50-temp-CSPAD-2.py; exit'\n",
      "Output: Job <220151> is submitted to queue <psfehhiprioq>.\n",
      "\n",
      "Error: \n",
      "Deleting the old output file ...\n",
      "Output: \n",
      "Error: None\n",
      "Deleting the old executable file ...\n",
      "Output: \n",
      "Error: None\n",
      "Submitting: ssh psana 'bsub -n 1 -R \"rusage[mem=7000]\" -q psfehhiprioq -o /cds/data/psdm/cxi/cxix40218/scratch/mrware/Batch/Output/CSPADMV-run-50-temp-CSPAD-3.out /cds/home/m/mrware/TRXS-dev/TRXS-Run18/Libraries/pythonBatchMagic/BatchWrapper.sh python2 /cds/data/psdm/cxi/cxix40218/scratch/mrware/Batch/Python/CSPADMV-run-50-temp-CSPAD-3.py; exit'\n",
      "Output: Job <220156> is submitted to queue <psfehhiprioq>.\n",
      "\n",
      "Error: \n",
      "Deleting the old output file ...\n",
      "Output: \n",
      "Error: None\n",
      "Deleting the old executable file ...\n",
      "Output: \n",
      "Error: None\n",
      "Submitting: ssh psana 'bsub -n 1 -R \"rusage[mem=7000]\" -q psfehhiprioq -o /cds/data/psdm/cxi/cxix40218/scratch/mrware/Batch/Output/CSPADMV-run-50-temp-CSPAD-4.out /cds/home/m/mrware/TRXS-dev/TRXS-Run18/Libraries/pythonBatchMagic/BatchWrapper.sh python2 /cds/data/psdm/cxi/cxix40218/scratch/mrware/Batch/Python/CSPADMV-run-50-temp-CSPAD-4.py; exit'\n",
      "Deleting the old output file ...\n",
      "Output: Job <220161> is submitted to queue <psfehhiprioq>.\n",
      "\n",
      "Error: \n",
      "Output: \n",
      "Error: None\n",
      "Deleting the old executable file ...\n",
      "Output: \n",
      "Error: None\n",
      "Submitting: ssh psana 'bsub -n 1 -R \"rusage[mem=7000]\" -q psfehhiprioq -o /cds/data/psdm/cxi/cxix40218/scratch/mrware/Batch/Output/CSPADMV-run-50-temp-CSPAD-5.out /cds/home/m/mrware/TRXS-dev/TRXS-Run18/Libraries/pythonBatchMagic/BatchWrapper.sh python2 /cds/data/psdm/cxi/cxix40218/scratch/mrware/Batch/Python/CSPADMV-run-50-temp-CSPAD-5.py; exit'\n",
      "Deleting the old output file ...\n",
      "Output: \n",
      "Error: None\n",
      "Deleting the old executable file ...\n",
      "Output: \n",
      "Error: None\n",
      "Submitting: ssh psana 'bsub -n 1 -R \"rusage[mem=7000]\" -q psfehhiprioq -o /cds/data/psdm/cxi/cxix40218/scratch/mrware/Batch/Output/CSPADMV-run-50-temp-CSPAD-6.out /cds/home/m/mrware/TRXS-dev/TRXS-Run18/Libraries/pythonBatchMagic/BatchWrapper.sh python2 /cds/data/psdm/cxi/cxix40218/scratch/mrware/Batch/Python/CSPADMV-run-50-temp-CSPAD-6.py; exit'\n",
      "Output: Job <220173> is submitted to queue <psfehhiprioq>.\n",
      "\n",
      "Error: \n",
      "Deleting the old output file ...\n",
      "Output: Job <220178> is submitted to queue <psfehhiprioq>.\n",
      "\n",
      "Error: \n",
      "Output: \n",
      "Error: None\n",
      "Deleting the old executable file ...\n",
      "Output: \n",
      "Error: None\n",
      "Submitting: ssh psana 'bsub -n 1 -R \"rusage[mem=7000]\" -q psfehhiprioq -o /cds/data/psdm/cxi/cxix40218/scratch/mrware/Batch/Output/CSPADMV-run-50-temp-CSPAD-7.out /cds/home/m/mrware/TRXS-dev/TRXS-Run18/Libraries/pythonBatchMagic/BatchWrapper.sh python2 /cds/data/psdm/cxi/cxix40218/scratch/mrware/Batch/Python/CSPADMV-run-50-temp-CSPAD-7.py; exit'\n",
      "Output: Job <220187> is submitted to queue <psfehhiprioq>.\n",
      "\n",
      "Error: \n",
      "Deleting the old output file ...\n",
      "Output: \n",
      "Error: None\n",
      "Deleting the old executable file ...\n",
      "Output: \n",
      "Error: None\n",
      "Submitting: ssh psana 'bsub -n 1 -R \"rusage[mem=7000]\" -q psfehhiprioq -o /cds/data/psdm/cxi/cxix40218/scratch/mrware/Batch/Output/CSPADMV-run-50-temp-CSPAD-8.out /cds/home/m/mrware/TRXS-dev/TRXS-Run18/Libraries/pythonBatchMagic/BatchWrapper.sh python2 /cds/data/psdm/cxi/cxix40218/scratch/mrware/Batch/Python/CSPADMV-run-50-temp-CSPAD-8.py; exit'\n",
      "Deleting the old output file ...\n",
      "Output: \n",
      "Error: None\n",
      "Deleting the old executable file ...\n",
      "Output: Job <220194> is submitted to queue <psfehhiprioq>.\n",
      "\n",
      "Error: \n",
      "Output: \n",
      "Error: None\n",
      "Submitting: ssh psana 'bsub -n 1 -R \"rusage[mem=7000]\" -q psfehhiprioq -o /cds/data/psdm/cxi/cxix40218/scratch/mrware/Batch/Output/CSPADMV-run-50-temp-CSPAD-9.out /cds/home/m/mrware/TRXS-dev/TRXS-Run18/Libraries/pythonBatchMagic/BatchWrapper.sh python2 /cds/data/psdm/cxi/cxix40218/scratch/mrware/Batch/Python/CSPADMV-run-50-temp-CSPAD-9.py; exit'\n",
      "Output: Job <220201> is submitted to queue <psfehhiprioq>.\n",
      "\n",
      "Error: \n",
      "Deleting the old output file ...\n",
      "Output: \n",
      "Error: None\n",
      "Deleting the old executable file ...\n",
      "Output: \n",
      "Error: None\n",
      "Submitting: ssh psana 'bsub -n 1 -R \"rusage[mem=7000]\" -q psfehhiprioq -o /cds/data/psdm/cxi/cxix40218/scratch/mrware/Batch/Output/CSPADMV-run-50-temp-CSPAD-10.out /cds/home/m/mrware/TRXS-dev/TRXS-Run18/Libraries/pythonBatchMagic/BatchWrapper.sh python2 /cds/data/psdm/cxi/cxix40218/scratch/mrware/Batch/Python/CSPADMV-run-50-temp-CSPAD-10.py; exit'\n",
      "Deleting the old output file ...\n",
      "Output: Job <220211> is submitted to queue <psfehhiprioq>.\n",
      "\n",
      "Error: \n",
      "Output: \n",
      "Error: None\n",
      "Deleting the old executable file ...\n",
      "Output: \n",
      "Error: None\n",
      "Submitting: ssh psana 'bsub -n 1 -R \"rusage[mem=7000]\" -q psfehhiprioq -o /cds/data/psdm/cxi/cxix40218/scratch/mrware/Batch/Output/CSPADMV-run-50-temp-CSPAD-11.out /cds/home/m/mrware/TRXS-dev/TRXS-Run18/Libraries/pythonBatchMagic/BatchWrapper.sh python2 /cds/data/psdm/cxi/cxix40218/scratch/mrware/Batch/Python/CSPADMV-run-50-temp-CSPAD-11.py; exit'\n",
      "Output: Job <220218> is submitted to queue <psfehhiprioq>.\n",
      "\n",
      "Error: \n",
      "Deleting the old output file ...\n",
      "Output: \n",
      "Error: None\n",
      "Deleting the old executable file ...\n",
      "Output: \n",
      "Error: None\n",
      "Submitting: ssh psana 'bsub -n 1 -R \"rusage[mem=7000]\" -q psfehhiprioq -o /cds/data/psdm/cxi/cxix40218/scratch/mrware/Batch/Output/CSPADMV-run-50-temp-CSPAD-12.out /cds/home/m/mrware/TRXS-dev/TRXS-Run18/Libraries/pythonBatchMagic/BatchWrapper.sh python2 /cds/data/psdm/cxi/cxix40218/scratch/mrware/Batch/Python/CSPADMV-run-50-temp-CSPAD-12.py; exit'\n",
      "Output: Job <220225> is submitted to queue <psfehhiprioq>.\n",
      "\n",
      "Error: \n",
      "Deleting the old output file ...\n",
      "Output: \n",
      "Error: None\n",
      "Deleting the old executable file ...\n",
      "Output: \n",
      "Error: None\n",
      "Submitting: ssh psana 'bsub -n 1 -R \"rusage[mem=7000]\" -q psfehhiprioq -o /cds/data/psdm/cxi/cxix40218/scratch/mrware/Batch/Output/CSPADMV-run-50-temp-CSPAD-13.out /cds/home/m/mrware/TRXS-dev/TRXS-Run18/Libraries/pythonBatchMagic/BatchWrapper.sh python2 /cds/data/psdm/cxi/cxix40218/scratch/mrware/Batch/Python/CSPADMV-run-50-temp-CSPAD-13.py; exit'\n",
      "Output: Job <220240> is submitted to queue <psfehhiprioq>.\n",
      "\n",
      "Error: \n",
      "Deleting the old output file ...\n",
      "Output: \n",
      "Error: None\n",
      "Deleting the old executable file ...\n",
      "Output: \n",
      "Error: None\n",
      "Submitting: ssh psana 'bsub -n 1 -R \"rusage[mem=7000]\" -q psfehhiprioq -o /cds/data/psdm/cxi/cxix40218/scratch/mrware/Batch/Output/CSPADMV-run-50-temp-CSPAD-14.out /cds/home/m/mrware/TRXS-dev/TRXS-Run18/Libraries/pythonBatchMagic/BatchWrapper.sh python2 /cds/data/psdm/cxi/cxix40218/scratch/mrware/Batch/Python/CSPADMV-run-50-temp-CSPAD-14.py; exit'\n",
      "Deleting the old output file ...\n",
      "Output: Job <220260> is submitted to queue <psfehhiprioq>.\n",
      "\n",
      "Error: \n",
      "Output: \n",
      "Error: None\n",
      "Deleting the old executable file ...\n",
      "Output: \n",
      "Error: None\n",
      "Submitting: ssh psana 'bsub -n 1 -R \"rusage[mem=7000]\" -q psfehhiprioq -o /cds/data/psdm/cxi/cxix40218/scratch/mrware/Batch/Output/CSPADMV-run-50-temp-CSPAD-15.out /cds/home/m/mrware/TRXS-dev/TRXS-Run18/Libraries/pythonBatchMagic/BatchWrapper.sh python2 /cds/data/psdm/cxi/cxix40218/scratch/mrware/Batch/Python/CSPADMV-run-50-temp-CSPAD-15.py; exit'\n",
      "Deleting the old output file ...\n",
      "Output: Job <220273> is submitted to queue <psfehhiprioq>.\n",
      "\n",
      "Error: \n",
      "Output: \n",
      "Error: None\n",
      "Deleting the old executable file ...\n",
      "Output: \n",
      "Error: None\n",
      "Submitting: ssh psana 'bsub -n 1 -R \"rusage[mem=7000]\" -q psfehhiprioq -o /cds/data/psdm/cxi/cxix40218/scratch/mrware/Batch/Output/CSPADMV-run-50-temp-CSPAD-16.out /cds/home/m/mrware/TRXS-dev/TRXS-Run18/Libraries/pythonBatchMagic/BatchWrapper.sh python2 /cds/data/psdm/cxi/cxix40218/scratch/mrware/Batch/Python/CSPADMV-run-50-temp-CSPAD-16.py; exit'\n",
      "Output: Job <220289> is submitted to queue <psfehhiprioq>.\n",
      "\n",
      "Error: \n",
      "Deleting the old output file ...\n",
      "Output: \n",
      "Error: None\n",
      "Deleting the old executable file ...\n",
      "Output: \n",
      "Error: None\n",
      "Submitting: ssh psana 'bsub -n 1 -R \"rusage[mem=7000]\" -q psfehhiprioq -o /cds/data/psdm/cxi/cxix40218/scratch/mrware/Batch/Output/CSPADMV-run-50-temp-CSPAD-17.out /cds/home/m/mrware/TRXS-dev/TRXS-Run18/Libraries/pythonBatchMagic/BatchWrapper.sh python2 /cds/data/psdm/cxi/cxix40218/scratch/mrware/Batch/Python/CSPADMV-run-50-temp-CSPAD-17.py; exit'\n",
      "Output: Job <220305> is submitted to queue <psfehhiprioq>.\n",
      "\n",
      "Error: \n",
      "Deleting the old output file ...\n",
      "Output: \n",
      "Error: None\n",
      "Deleting the old executable file ...\n",
      "Output: \n",
      "Error: None\n",
      "Submitting: ssh psana 'bsub -n 1 -R \"rusage[mem=7000]\" -q psfehhiprioq -o /cds/data/psdm/cxi/cxix40218/scratch/mrware/Batch/Output/CSPADMV-run-50-temp-CSPAD-18.out /cds/home/m/mrware/TRXS-dev/TRXS-Run18/Libraries/pythonBatchMagic/BatchWrapper.sh python2 /cds/data/psdm/cxi/cxix40218/scratch/mrware/Batch/Python/CSPADMV-run-50-temp-CSPAD-18.py; exit'\n",
      "Output: Job <220318> is submitted to queue <psfehhiprioq>.\n",
      "\n",
      "Error: Deleting the old output file ...\n",
      "\n",
      "Output: \n",
      "Error: None\n",
      "Deleting the old executable file ...\n",
      "Output: \n",
      "Error: None\n",
      "Submitting: ssh psana 'bsub -n 1 -R \"rusage[mem=7000]\" -q psfehhiprioq -o /cds/data/psdm/cxi/cxix40218/scratch/mrware/Batch/Output/CSPADMV-run-50-temp-CSPAD-19.out /cds/home/m/mrware/TRXS-dev/TRXS-Run18/Libraries/pythonBatchMagic/BatchWrapper.sh python2 /cds/data/psdm/cxi/cxix40218/scratch/mrware/Batch/Python/CSPADMV-run-50-temp-CSPAD-19.py; exit'\n",
      "Deleting the old output file ...\n",
      "Output: Job <220328> is submitted to queue <psfehhiprioq>.\n",
      "\n",
      "Error: \n",
      "Output: \n",
      "Error: None\n",
      "Deleting the old executable file ...\n",
      "Output: \n",
      "Error: None\n",
      "Submitting: ssh psana 'bsub -n 1 -R \"rusage[mem=7000]\" -q psfehhiprioq -o /cds/data/psdm/cxi/cxix40218/scratch/mrware/Batch/Output/CSPADMV-run-50-temp-CSPAD-20.out /cds/home/m/mrware/TRXS-dev/TRXS-Run18/Libraries/pythonBatchMagic/BatchWrapper.sh python2 /cds/data/psdm/cxi/cxix40218/scratch/mrware/Batch/Python/CSPADMV-run-50-temp-CSPAD-20.py; exit'\n",
      "Deleting the old output file ...\n",
      "Output: \n",
      "Error: None\n",
      "Deleting the old executable file ...\n",
      "Output: Job <220336> is submitted to queue <psfehhiprioq>.\n",
      "\n",
      "Error: \n",
      "Output: \n",
      "Error: None\n",
      "Submitting: ssh psana 'bsub -n 1 -R \"rusage[mem=7000]\" -q psfehhiprioq -o /cds/data/psdm/cxi/cxix40218/scratch/mrware/Batch/Output/CSPADMV-run-50-temp-CSPAD-21.out /cds/home/m/mrware/TRXS-dev/TRXS-Run18/Libraries/pythonBatchMagic/BatchWrapper.sh python2 /cds/data/psdm/cxi/cxix40218/scratch/mrware/Batch/Python/CSPADMV-run-50-temp-CSPAD-21.py; exit'\n",
      "Deleting the old output file ...\n",
      "Output: \n",
      "Error: None\n",
      "Deleting the old executable file ...\n",
      "Output: \n",
      "Error: None\n",
      "Submitting: ssh psana 'bsub -n 1 -R \"rusage[mem=7000]\" -q psfehhiprioq -o /cds/data/psdm/cxi/cxix40218/scratch/mrware/Batch/Output/CSPADMV-run-50-temp-CSPAD-22.out /cds/home/m/mrware/TRXS-dev/TRXS-Run18/Libraries/pythonBatchMagic/BatchWrapper.sh python2 /cds/data/psdm/cxi/cxix40218/scratch/mrware/Batch/Python/CSPADMV-run-50-temp-CSPAD-22.py; exit'\n",
      "Output: Job <220340> is submitted to queue <psfehhiprioq>.\n",
      "\n",
      "Error: \n",
      "Deleting the old output file ...\n",
      "Output: \n",
      "Error: None\n",
      "Deleting the old executable file ...\n",
      "Output: \n",
      "Error: None\n",
      "Submitting: ssh psana 'bsub -n 1 -R \"rusage[mem=7000]\" -q psfehhiprioq -o /cds/data/psdm/cxi/cxix40218/scratch/mrware/Batch/Output/CSPADMV-run-50-temp-CSPAD-23.out /cds/home/m/mrware/TRXS-dev/TRXS-Run18/Libraries/pythonBatchMagic/BatchWrapper.sh python2 /cds/data/psdm/cxi/cxix40218/scratch/mrware/Batch/Python/CSPADMV-run-50-temp-CSPAD-23.py; exit'\n",
      "Deleting the old output file ...\n",
      "Output: \n",
      "Error: None\n",
      "Deleting the old executable file ...\n",
      "Output: \n",
      "Error: None\n",
      "Submitting: ssh psana 'bsub -n 1 -R \"rusage[mem=7000]\" -q psfehhiprioq -o /cds/data/psdm/cxi/cxix40218/scratch/mrware/Batch/Output/CSPADMV-run-50-temp-CSPAD-24.out /cds/home/m/mrware/TRXS-dev/TRXS-Run18/Libraries/pythonBatchMagic/BatchWrapper.sh python2 /cds/data/psdm/cxi/cxix40218/scratch/mrware/Batch/Python/CSPADMV-run-50-temp-CSPAD-24.py; exit'\n",
      "Deleting the old output file ...\n",
      "Output: \n",
      "Error: None\n",
      "Deleting the old executable file ...\n",
      "Output: \n",
      "Error: None\n",
      "Submitting: ssh psana 'bsub -n 1 -R \"rusage[mem=7000]\" -q psfehhiprioq -o /cds/data/psdm/cxi/cxix40218/scratch/mrware/Batch/Output/CSPADMV-run-50-temp-CSPAD-25.out /cds/home/m/mrware/TRXS-dev/TRXS-Run18/Libraries/pythonBatchMagic/BatchWrapper.sh python2 /cds/data/psdm/cxi/cxix40218/scratch/mrware/Batch/Python/CSPADMV-run-50-temp-CSPAD-25.py; exit'\n",
      "Deleting the old output file ...\n",
      "Output: \n",
      "Error: None\n",
      "Deleting the old executable file ...\n",
      "Output: \n",
      "Error: None\n",
      "Submitting: ssh psana 'bsub -n 1 -R \"rusage[mem=7000]\" -q psfehhiprioq -o /cds/data/psdm/cxi/cxix40218/scratch/mrware/Batch/Output/CSPADMV-run-50-temp-CSPAD-26.out /cds/home/m/mrware/TRXS-dev/TRXS-Run18/Libraries/pythonBatchMagic/BatchWrapper.sh python2 /cds/data/psdm/cxi/cxix40218/scratch/mrware/Batch/Python/CSPADMV-run-50-temp-CSPAD-26.py; exit'\n",
      "Deleting the old output file ...\n",
      "Output: \n",
      "Error: None\n",
      "Deleting the old executable file ...\n",
      "Output: \n",
      "Error: None\n",
      "Submitting: ssh psana 'bsub -n 1 -R \"rusage[mem=7000]\" -q psfehhiprioq -o /cds/data/psdm/cxi/cxix40218/scratch/mrware/Batch/Output/CSPADMV-run-50-temp-CSPAD-27.out /cds/home/m/mrware/TRXS-dev/TRXS-Run18/Libraries/pythonBatchMagic/BatchWrapper.sh python2 /cds/data/psdm/cxi/cxix40218/scratch/mrware/Batch/Python/CSPADMV-run-50-temp-CSPAD-27.py; exit'\n",
      "Output: Job <220369> is submitted to queue <psfehhiprioq>.\n",
      "\n",
      "Error: \n",
      "Deleting the old output file ...\n",
      "Output: \n",
      "Error: None\n",
      "Deleting the old executable file ...\n",
      "Output: \n",
      "Error: None\n",
      "Submitting: ssh psana 'bsub -n 1 -R \"rusage[mem=7000]\" -q psfehhiprioq -o /cds/data/psdm/cxi/cxix40218/scratch/mrware/Batch/Output/CSPADMV-run-50-temp-CSPAD-28.out /cds/home/m/mrware/TRXS-dev/TRXS-Run18/Libraries/pythonBatchMagic/BatchWrapper.sh python2 /cds/data/psdm/cxi/cxix40218/scratch/mrware/Batch/Python/CSPADMV-run-50-temp-CSPAD-28.py; exit'\n",
      "Output: Job <220379> is submitted to queue <psfehhiprioq>.\n",
      "\n",
      "Error: \n",
      "Deleting the old output file ...\n",
      "Output: \n",
      "Error: None\n",
      "Deleting the old executable file ...\n",
      "Output: \n",
      "Error: None\n",
      "Submitting: ssh psana 'bsub -n 1 -R \"rusage[mem=7000]\" -q psfehhiprioq -o /cds/data/psdm/cxi/cxix40218/scratch/mrware/Batch/Output/CSPADMV-run-50-temp-CSPAD-29.out /cds/home/m/mrware/TRXS-dev/TRXS-Run18/Libraries/pythonBatchMagic/BatchWrapper.sh python2 /cds/data/psdm/cxi/cxix40218/scratch/mrware/Batch/Python/CSPADMV-run-50-temp-CSPAD-29.py; exit'\n",
      "Output: Job <220388> is submitted to queue <psfehhiprioq>.\n",
      "Output: Job <220398> is submitted to queue <psfehhiprioq>.\n",
      "Output: Job <220389> is submitted to queue <psfehhiprioq>.\n",
      "\n",
      "Error: \n",
      "Output: Job <220396> is submitted to queue <psfehhiprioq>.\n",
      "\n",
      "Error: Output: Job <220397> is submitted to queue <psfehhiprioq>.\n",
      "\n",
      "\n",
      "Error: \n",
      "\n",
      "Error: \n",
      "\n",
      "Error: \n",
      "Output: Job <220401> is submitted to queue <psfehhiprioq>.\n",
      "\n",
      "Error: \n",
      "Deleting the old output file ...\n",
      "Output: \n",
      "Error: None\n",
      "Deleting the old executable file ...\n",
      "Output: \n",
      "Error: None\n",
      "Submitting: ssh psana 'bsub -n 1 -R \"rusage[mem=7000]\" -q psfehhiprioq -o /cds/data/psdm/cxi/cxix40218/scratch/mrware/Batch/Output/CSPADMV-run-50-temp-CSPAD-30.out /cds/home/m/mrware/TRXS-dev/TRXS-Run18/Libraries/pythonBatchMagic/BatchWrapper.sh python2 /cds/data/psdm/cxi/cxix40218/scratch/mrware/Batch/Python/CSPADMV-run-50-temp-CSPAD-30.py; exit'\n",
      "Deleting the old output file ...\n",
      " Output: Job <220444> is submitted to queue <psfehhiprioq>.\n",
      "\n",
      "Error: \n",
      "Output: \n",
      "Error: None\n",
      "Deleting the old executable file ...\n",
      "Deleting the old output file ...Output: \n",
      "\n",
      "Error: None\n",
      "Submitting: ssh psana 'bsub -n 1 -R \"rusage[mem=7000]\" -q psfehhiprioq -o /cds/data/psdm/cxi/cxix40218/scratch/mrware/Batch/Output/CSPADMV-run-50-temp-CSPAD-31.out /cds/home/m/mrware/TRXS-dev/TRXS-Run18/Libraries/pythonBatchMagic/BatchWrapper.sh python2 /cds/data/psdm/cxi/cxix40218/scratch/mrware/Batch/Python/CSPADMV-run-50-temp-CSPAD-31.py; exit'\n",
      "Output: \n",
      "Error: None\n",
      "Deleting the old executable file ...\n",
      "Output: Job <220490> is submitted to queue <psfehhiprioq>.\n",
      "\n",
      "Error: \n",
      "Deleting the old output file ...\n",
      "Output: \n",
      "Error: None\n",
      "Submitting: ssh psana 'bsub -n 1 -R \"rusage[mem=7000]\" -q psfehhiprioq -o /cds/data/psdm/cxi/cxix40218/scratch/mrware/Batch/Output/CSPADMV-run-50-temp-CSPAD-32.out /cds/home/m/mrware/TRXS-dev/TRXS-Run18/Libraries/pythonBatchMagic/BatchWrapper.sh python2 /cds/data/psdm/cxi/cxix40218/scratch/mrware/Batch/Python/CSPADMV-run-50-temp-CSPAD-32.py; exit'\n",
      "Output: \n",
      "Error: None\n",
      "Deleting the old executable file ...\n",
      "Output: Job <220535> is submitted to queue <psfehhiprioq>.\n",
      "\n",
      "Error: \n",
      "Output: \n",
      "Error: None\n",
      "Deleting the old output file ...\n",
      "Submitting: ssh psana 'bsub -n 1 -R \"rusage[mem=7000]\" -q psfehhiprioq -o /cds/data/psdm/cxi/cxix40218/scratch/mrware/Batch/Output/CSPADMV-run-50-temp-CSPAD-33.out /cds/home/m/mrware/TRXS-dev/TRXS-Run18/Libraries/pythonBatchMagic/BatchWrapper.sh python2 /cds/data/psdm/cxi/cxix40218/scratch/mrware/Batch/Python/CSPADMV-run-50-temp-CSPAD-33.py; exit'\n",
      "Output: \n",
      "Error: None\n",
      "Deleting the old executable file ...\n",
      "Output: Job <220594> is submitted to queue <psfehhiprioq>.\n",
      "\n",
      "Error: \n",
      "Output: \n",
      "Error: None\n",
      "Deleting the old output file ...\n",
      "Submitting: ssh psana 'bsub -n 1 -R \"rusage[mem=7000]\" -q psfehhiprioq -o /cds/data/psdm/cxi/cxix40218/scratch/mrware/Batch/Output/CSPADMV-run-50-temp-CSPAD-34.out /cds/home/m/mrware/TRXS-dev/TRXS-Run18/Libraries/pythonBatchMagic/BatchWrapper.sh python2 /cds/data/psdm/cxi/cxix40218/scratch/mrware/Batch/Python/CSPADMV-run-50-temp-CSPAD-34.py; exit'\n",
      "Output: \n",
      "Error: None\n",
      "Deleting the old executable file ...\n",
      "Output: Job <220658> is submitted to queue <psfehhiprioq>.\n",
      "\n",
      "Error: \n",
      "Deleting the old output file ...\n",
      "Output: \n",
      "Error: None\n",
      "Output: \n",
      "Error: None\n",
      "Deleting the old executable file ...\n",
      "Submitting: ssh psana 'bsub -n 1 -R \"rusage[mem=7000]\" -q psfehhiprioq -o /cds/data/psdm/cxi/cxix40218/scratch/mrware/Batch/Output/CSPADMV-run-50-temp-CSPAD-35.out /cds/home/m/mrware/TRXS-dev/TRXS-Run18/Libraries/pythonBatchMagic/BatchWrapper.sh python2 /cds/data/psdm/cxi/cxix40218/scratch/mrware/Batch/Python/CSPADMV-run-50-temp-CSPAD-35.py; exit'\n",
      "Deleting the old output file ...\n",
      "Output: \n",
      "Error: None\n",
      "Output: Job <220764> is submitted to queue <psfehhiprioq>.\n",
      "\n",
      "Error: \n",
      "Submitting: ssh psana 'bsub -n 1 -R \"rusage[mem=7000]\" -q psfehhiprioq -o /cds/data/psdm/cxi/cxix40218/scratch/mrware/Batch/Output/CSPADMV-run-50-temp-CSPAD-36.out /cds/home/m/mrware/TRXS-dev/TRXS-Run18/Libraries/pythonBatchMagic/BatchWrapper.sh python2 /cds/data/psdm/cxi/cxix40218/scratch/mrware/Batch/Python/CSPADMV-run-50-temp-CSPAD-36.py; exit'\n",
      "Output: \n",
      "Error: None\n",
      "Deleting the old executable file ...\n"
     ]
    }
   ],
   "source": [
    "tagList = []\n",
    "# NTOT = detArrays['uvint'][goodIdx].size\n",
    "NTOT = 10e2\n",
    "NGRAB = 10\n",
    "NCORE = int( float(NTOT)/float(NGRAB) )\n",
    "\n",
    "print('Grabbing %d shots, %d events at a time, on %d nodes' %(NTOT,NGRAB,NCORE))\n",
    "\n",
    "for idx in range(NCORE):\n",
    "    filteredSeconds = pointData['seconds'][goodIdx][0+NGRAB*idx:NGRAB+NGRAB*idx]\n",
    "    filteredNanoseconds = pointData['nanoseconds'][goodIdx][0+NGRAB*idx:NGRAB+NGRAB*idx]\n",
    "    filteredFiducials = pointData['fiducials'][goodIdx][0+NGRAB*idx:NGRAB+NGRAB*idx]\n",
    "    tagList.append( {'seconds':filteredSeconds, 'nanoseconds':filteredNanoseconds, 'fiducials':filteredFiducials} )\n",
    "\n",
    "# batchThreads = batchCSPADGrabber (tagList, experiment=experiment, runNumber=runNumber)\n",
    "batchThreads = batchCSPADMVGrabber (tagList, experiment=experiment, runNumber=runNumber, detType='Jungfrau')\n",
    "timebins=np.arange(NCORE)\n",
    "# batchThreads.Queue = 'psanaq'   \n",
    "batchThreads.Queue = 'psfehhiprioq'\n",
    "batchThreads.start()"
   ]
  },
  {
   "cell_type": "markdown",
   "metadata": {},
   "source": [
    "# Read in timebinned CSPAD\n",
    "## If you want to timebin your images"
   ]
  },
  {
   "cell_type": "code",
   "execution_count": 9,
   "metadata": {
    "scrolled": true
   },
   "outputs": [
    {
     "name": "stdout",
     "output_type": "stream",
     "text": [
      "Number of timebins:  55\n",
      "Deleting the old output file ...\n",
      "Output: \n",
      "Error: None\n",
      "Deleting the old executable file ...\n"
     ]
    }
   ],
   "source": [
    "# timebins = np.arange( -1.5,1.5,.03 )\n",
    "# timebins are in picoseconds\n",
    "# timebins = np.arange( 2.,5.5,.03 ) \n",
    "timebins = np.arange( -5.5, 5.5, .2 )\n",
    "print 'Number of timebins: ', len(timebins)\n",
    "dt = timebins[1]-timebins[0]\n",
    "NT = timebins.size\n",
    "\n",
    "tagList = []\n",
    "for idx, t in enumerate(timebins):\n",
    "    tIndex = (TTTime >= t-dt/2.)&(TTTime < t+dt/2.)\n",
    "    allIndex = tIndex & goodIdx\n",
    "    filteredSeconds = pointData['seconds'][allIndex]\n",
    "    filteredNanoseconds = pointData['nanoseconds'][allIndex]\n",
    "    filteredFiducials = pointData['fiducials'][allIndex]\n",
    "    tagList.append( {'seconds':filteredSeconds, 'nanoseconds':filteredNanoseconds, 'fiducials':filteredFiducials} )\n",
    "\n",
    "# batchThreads = batchCSPADGrabber (tagList, experiment=experiment, runNumber=runNumber, detType='Jungfrau')\n",
    "batchThreads = batchCSPADMVGrabber (tagList, experiment=experiment, runNumber=runNumber, detType='Jungfrau')\n",
    "\n",
    "batchThreads.Queue = 'psfehhiprioq'\n",
    "batchThreads.RunType = 'python2'\n",
    "batchThreads.start()\n"
   ]
  },
  {
   "cell_type": "markdown",
   "metadata": {},
   "source": [
    "## Check job status"
   ]
  },
  {
   "cell_type": "code",
   "execution_count": 20,
   "metadata": {
    "scrolled": true
   },
   "outputs": [
    {
     "name": "stdout",
     "output_type": "stream",
     "text": [
      "Stopped\n",
      "JOBID   USER    STAT  QUEUE      FROM_HOST   EXEC_HOST   JOB_NAME   SUBMIT_TIME\n",
      "220896  mrware  RUN   psfehhipri psanagpu101 psana1601   *PAD-38.py Nov 27 09:23\n",
      "\n",
      "\n"
     ]
    }
   ],
   "source": [
    "print batchThreads.status\n",
    "stdoutdata, stderrdata = bjobs()\n",
    "print stdoutdata\n",
    "print stderrdata"
   ]
  },
  {
   "cell_type": "markdown",
   "metadata": {},
   "source": [
    "## Kill threads if they die"
   ]
  },
  {
   "cell_type": "code",
   "execution_count": 21,
   "metadata": {
    "scrolled": true
   },
   "outputs": [
    {
     "name": "stdout",
     "output_type": "stream",
     "text": [
      "\n",
      "No unfinished job found\n",
      "\n"
     ]
    }
   ],
   "source": [
    "batchThreads.requestStop()\n",
    "time.sleep(5)\n",
    "stdoutdata, stderrdata = bkill(killAll=True)\n",
    "print stdoutdata\n",
    "print stderrdata"
   ]
  },
  {
   "cell_type": "markdown",
   "metadata": {},
   "source": [
    "# Save resulting CSPAD"
   ]
  },
  {
   "cell_type": "code",
   "execution_count": 13,
   "metadata": {
    "scrolled": true
   },
   "outputs": [
    {
     "name": "stdout",
     "output_type": "stream",
     "text": [
      "IOError: Did you load the correct file? /cds/data/psdm/cxi/cxix40218/scratch/mrware/Batch/Output/mean-var-node-0-run-50\n",
      "[Errno 2] No such file or directory: '/cds/data/psdm/cxi/cxix40218/scratch/mrware/Batch/Output/mean-var-node-0-run-50.pkl'\n",
      "IOError: Did you load the correct file? /cds/data/psdm/cxi/cxix40218/scratch/mrware/Batch/Output/mean-var-node-1-run-50\n",
      "[Errno 2] No such file or directory: '/cds/data/psdm/cxi/cxix40218/scratch/mrware/Batch/Output/mean-var-node-1-run-50.pkl'\n",
      "IOError: Did you load the correct file? /cds/data/psdm/cxi/cxix40218/scratch/mrware/Batch/Output/mean-var-node-2-run-50\n",
      "[Errno 2] No such file or directory: '/cds/data/psdm/cxi/cxix40218/scratch/mrware/Batch/Output/mean-var-node-2-run-50.pkl'\n",
      "/cds/data/psdm/cxi/cxix40218/scratch/mrware/Batch/Output/mean-var-node-3-run-50 remembered!\n",
      "/cds/data/psdm/cxi/cxix40218/scratch/mrware/Batch/Output/mean-var-node-4-run-50 remembered!\n",
      "/cds/data/psdm/cxi/cxix40218/scratch/mrware/Batch/Output/mean-var-node-5-run-50 remembered!\n",
      "/cds/data/psdm/cxi/cxix40218/scratch/mrware/Batch/Output/mean-var-node-6-run-50 remembered!\n",
      "/cds/data/psdm/cxi/cxix40218/scratch/mrware/Batch/Output/mean-var-node-7-run-50 remembered!\n",
      "/cds/data/psdm/cxi/cxix40218/scratch/mrware/Batch/Output/mean-var-node-8-run-50 remembered!\n",
      "/cds/data/psdm/cxi/cxix40218/scratch/mrware/Batch/Output/mean-var-node-9-run-50 remembered!\n",
      "/cds/data/psdm/cxi/cxix40218/scratch/mrware/Batch/Output/mean-var-node-10-run-50 remembered!\n",
      "/cds/data/psdm/cxi/cxix40218/scratch/mrware/Batch/Output/mean-var-node-11-run-50 remembered!\n",
      "/cds/data/psdm/cxi/cxix40218/scratch/mrware/Batch/Output/mean-var-node-12-run-50 remembered!\n",
      "/cds/data/psdm/cxi/cxix40218/scratch/mrware/Batch/Output/mean-var-node-13-run-50 remembered!\n",
      "/cds/data/psdm/cxi/cxix40218/scratch/mrware/Batch/Output/mean-var-node-14-run-50 remembered!\n",
      "/cds/data/psdm/cxi/cxix40218/scratch/mrware/Batch/Output/mean-var-node-15-run-50 remembered!\n",
      "/cds/data/psdm/cxi/cxix40218/scratch/mrware/Batch/Output/mean-var-node-16-run-50 remembered!\n",
      "/cds/data/psdm/cxi/cxix40218/scratch/mrware/Batch/Output/mean-var-node-17-run-50 remembered!\n",
      "/cds/data/psdm/cxi/cxix40218/scratch/mrware/Batch/Output/mean-var-node-18-run-50 remembered!\n",
      "/cds/data/psdm/cxi/cxix40218/scratch/mrware/Batch/Output/mean-var-node-19-run-50 remembered!\n",
      "/cds/data/psdm/cxi/cxix40218/scratch/mrware/Batch/Output/mean-var-node-20-run-50 remembered!\n",
      "/cds/data/psdm/cxi/cxix40218/scratch/mrware/Batch/Output/mean-var-node-21-run-50 remembered!\n",
      "/cds/data/psdm/cxi/cxix40218/scratch/mrware/Batch/Output/mean-var-node-22-run-50 remembered!\n",
      "/cds/data/psdm/cxi/cxix40218/scratch/mrware/Batch/Output/mean-var-node-23-run-50 remembered!\n",
      "/cds/data/psdm/cxi/cxix40218/scratch/mrware/Batch/Output/mean-var-node-24-run-50 remembered!\n",
      "/cds/data/psdm/cxi/cxix40218/scratch/mrware/Batch/Output/mean-var-node-25-run-50 remembered!\n",
      "/cds/data/psdm/cxi/cxix40218/scratch/mrware/Batch/Output/mean-var-node-26-run-50 remembered!\n",
      "/cds/data/psdm/cxi/cxix40218/scratch/mrware/Batch/Output/mean-var-node-27-run-50 remembered!\n",
      "/cds/data/psdm/cxi/cxix40218/scratch/mrware/Batch/Output/mean-var-node-28-run-50 remembered!\n",
      "/cds/data/psdm/cxi/cxix40218/scratch/mrware/Batch/Output/mean-var-node-29-run-50 remembered!\n",
      "/cds/data/psdm/cxi/cxix40218/scratch/mrware/Batch/Output/mean-var-node-30-run-50 remembered!\n",
      "/cds/data/psdm/cxi/cxix40218/scratch/mrware/Batch/Output/mean-var-node-31-run-50 remembered!\n",
      "/cds/data/psdm/cxi/cxix40218/scratch/mrware/Batch/Output/mean-var-node-32-run-50 remembered!\n",
      "/cds/data/psdm/cxi/cxix40218/scratch/mrware/Batch/Output/mean-var-node-33-run-50 remembered!\n",
      "/cds/data/psdm/cxi/cxix40218/scratch/mrware/Batch/Output/mean-var-node-34-run-50 remembered!\n",
      "/cds/data/psdm/cxi/cxix40218/scratch/mrware/Batch/Output/mean-var-node-35-run-50 remembered!\n",
      "/cds/data/psdm/cxi/cxix40218/scratch/mrware/Batch/Output/mean-var-node-36-run-50 remembered!\n",
      "/cds/data/psdm/cxi/cxix40218/scratch/mrware/Batch/Output/mean-var-node-37-run-50 remembered!\n",
      "/cds/data/psdm/cxi/cxix40218/scratch/mrware/Batch/Output/mean-var-node-38-run-50 remembered!\n",
      "/cds/data/psdm/cxi/cxix40218/scratch/mrware/Batch/Output/mean-var-node-39-run-50 remembered!\n",
      "/cds/data/psdm/cxi/cxix40218/scratch/mrware/Batch/Output/mean-var-node-40-run-50 remembered!\n",
      "/cds/data/psdm/cxi/cxix40218/scratch/mrware/Batch/Output/mean-var-node-41-run-50 remembered!\n",
      "/cds/data/psdm/cxi/cxix40218/scratch/mrware/Batch/Output/mean-var-node-42-run-50 remembered!\n",
      "/cds/data/psdm/cxi/cxix40218/scratch/mrware/Batch/Output/mean-var-node-43-run-50 remembered!\n",
      "/cds/data/psdm/cxi/cxix40218/scratch/mrware/Batch/Output/mean-var-node-44-run-50 remembered!\n",
      "/cds/data/psdm/cxi/cxix40218/scratch/mrware/Batch/Output/mean-var-node-45-run-50 remembered!\n",
      "/cds/data/psdm/cxi/cxix40218/scratch/mrware/Batch/Output/mean-var-node-46-run-50 remembered!\n",
      "/cds/data/psdm/cxi/cxix40218/scratch/mrware/Batch/Output/mean-var-node-47-run-50 remembered!\n",
      "/cds/data/psdm/cxi/cxix40218/scratch/mrware/Batch/Output/mean-var-node-48-run-50 remembered!\n",
      "/cds/data/psdm/cxi/cxix40218/scratch/mrware/Batch/Output/mean-var-node-49-run-50 remembered!\n",
      "/cds/data/psdm/cxi/cxix40218/scratch/mrware/Batch/Output/mean-var-node-50-run-50 remembered!\n",
      "/cds/data/psdm/cxi/cxix40218/scratch/mrware/Batch/Output/mean-var-node-51-run-50 remembered!\n",
      "/cds/data/psdm/cxi/cxix40218/scratch/mrware/Batch/Output/mean-var-node-52-run-50 remembered!\n",
      "/cds/data/psdm/cxi/cxix40218/scratch/mrware/Batch/Output/mean-var-node-53-run-50 remembered!\n",
      "/cds/data/psdm/cxi/cxix40218/scratch/mrware/Batch/Output/mean-var-node-54-run-50 remembered!\n"
     ]
    }
   ],
   "source": [
    "batchThreads.gather()\n",
    "CSPAD = batchThreads.CSPAD\n",
    "variance = batchThreads.variance\n",
    "counts = batchThreads.counts"
   ]
  },
  {
   "cell_type": "code",
   "execution_count": 14,
   "metadata": {},
   "outputs": [],
   "source": [
    "from scipy.io import savemat\n",
    "np.save(os.environ['RESULTSPATH']+'/timebins-run-%d' % runNumber ,timebins)\n",
    "np.save(os.environ['RESULTSPATH']+'/CSPAD-run-%d' % runNumber  , CSPAD)\n",
    "np.save(os.environ['RESULTSPATH']+'/variance-run-%d' %  runNumber , variance)\n",
    "np.save(os.environ['RESULTSPATH']+'/counts-run-%d' % runNumber  , counts)\n",
    "\n",
    "filename = os.environ['RESULTSPATH']+'/timebinned-detector-images-run-%d' % runNumber\n",
    "mdict = {'timebins':timebins,'CSPAD':CSPAD,'variance':variance,'counts':counts}\n",
    "savemat(filename, mdict)"
   ]
  },
  {
   "cell_type": "markdown",
   "metadata": {},
   "source": [
    "# Plot CSPAD"
   ]
  },
  {
   "cell_type": "code",
   "execution_count": null,
   "metadata": {},
   "outputs": [],
   "source": [
    "# # Optional code if timebinned frames are already saved\n",
    "timebins = np.load(os.environ['RESULTSPATH']+'/timebins-run-%d.npy' % runNumber )\n",
    "CSPAD = np.load(os.environ['RESULTSPATH']+'/CSPAD-run-%d.npy' % runNumber)\n",
    "variance = np.load(os.environ['RESULTSPATH']+'/variance-run-%d.npy' % runNumber)\n",
    "counts = np.load(os.environ['RESULTSPATH']+'/counts-run-%d.npy' % runNumber)"
   ]
  },
  {
   "cell_type": "code",
   "execution_count": null,
   "metadata": {},
   "outputs": [],
   "source": [
    "for i in range(CSPAD.shape[-1]):\n",
    "    m = np.mean(CSPAD[:,:,:,i])\n",
    "    if not np.isnan(m):\n",
    "        print i, np.mean(CSPAD[:,:,:,i]), counts[i][0], timebins[i]"
   ]
  },
  {
   "cell_type": "code",
   "execution_count": 15,
   "metadata": {},
   "outputs": [
    {
     "name": "stdout",
     "output_type": "stream",
     "text": [
      "(0.0, 2.2)\n"
     ]
    },
    {
     "data": {
      "image/png": "[encoded data removed]",
      "text/plain": [
       "<Figure size 900x713.793 with 2 Axes>"
      ]
     },
     "metadata": {
      "needs_background": "light"
     },
     "output_type": "display_data"
    }
   ],
   "source": [
    "from IPython.display import clear_output\n",
    "from plotStyles import *\n",
    "\n",
    "def plotCSPAD( cspad , x , y, cspadMask=None, zLims = None, divergent=False, NTILE=8 ):\n",
    "    figOpts = {'xLims':[-1e5,1e5],'yLims':[-1e5,1e5],'divergent':divergent, 'xIn':3, 'yIn':3*11.5/14.5}\n",
    "    \n",
    "    if zLims is not None:\n",
    "        figOpts['zLims'] = zLims\n",
    "    \n",
    "    for iTile in range(NTILE):\n",
    "    \n",
    "        if cspadMask is not None:\n",
    "            cspadTile = cspad[iTile,:,:]\n",
    "            tileMask = ~cspadMask[iTile,:,:]\n",
    "            cspadTile[tileMask] = 0\n",
    "        \n",
    "        if iTile == 0:\n",
    "            newFigure = True\n",
    "        else:\n",
    "            newFigure = False\n",
    "            \n",
    "        clear_output()\n",
    "        colorPlot( x[iTile,:,:], y[iTile,:,:], cspadTile , newFigure=newFigure, **figOpts);\n",
    "\n",
    "\n",
    "x,y = CSPADgeometry(detType='Jungfrau', run=runNumber, experiment=experiment)\n",
    "# cspadMask = createMask(experiment=experiment, run=runNumber, detType='Jungfrau').astype(bool)\n",
    "cspadMask = np.ones_like(x).astype(bool)\n",
    "print(cspadMask.shape)\n",
    "\n",
    "print CSPAD.shape\n",
    "CSPADbinned = CSPAD\n",
    "\n",
    "# CSPADbinned[CSPADbinned>10]=0\n",
    "CSPAD2plot = np.nansum(CSPADbinned[:,:,:,:],axis=-1)#-CSPADbinned[:,:,:,53]\n",
    "# plotCSPAD( cspadMask, x , y , cspadMask=cspadMask, divergent=True )\n",
    "# plotCSPAD( np.sum(CSPADbinned[:,:,:,:100], axis=-1)-np.sum(CSPADbinned[:,:,:,100:200], axis=-1), x , y , cspadMask=cspadMask, divergent=False, NTILE=8 )\n",
    "plotCSPAD( CSPAD2plot, x , y , zLims=[0,2],\n",
    "          cspadMask=cspadMask, divergent=False, NTILE=8 )\n"
   ]
  },
  {
   "cell_type": "raw",
   "metadata": {},
   "source": []
  },
  {
   "cell_type": "code",
   "execution_count": null,
   "metadata": {},
   "outputs": [],
   "source": []
  }
 ],
 "metadata": {
  "kernelspec": {
   "display_name": "LCLS-I py2",
   "language": "python",
   "name": "ana1-current"
  },
  "language_info": {
   "codemirror_mode": {
    "name": "ipython",
    "version": 2
   },
   "file_extension": ".py",
   "mimetype": "text/x-python",
   "name": "python",
   "nbconvert_exporter": "python",
   "pygments_lexer": "ipython2",
   "version": "2.7.15"
  }
 },
 "nbformat": 4,
 "nbformat_minor": 2
}
